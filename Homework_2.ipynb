{
 "cells": [
  {
   "cell_type": "markdown",
   "metadata": {},
   "source": [
    "# ДЗ 2 (Кравченко Анатолий)\n",
    "Применить ранговую трансформацию (потом t-test) и сравнить с результатами по Манну-Уитни на:\n",
    "- метрике cart_added_cnt\n",
    "(1 балл)\n",
    "\n",
    "Реализовать cuped-трансформацию и сравнить мощность t-критерия на:\n",
    "- обычной метрике cart_added_cnt\n",
    "- логарфимированной метрике cart_added_cnt\n",
    "- метрике cart_added_cnt (а после подвергнуть ранговому преобразованию)\n",
    "(3 балла)\n",
    "\n",
    "В каждом случае фиксировать, на сколько сокращается дисперсия, проверять равны ли средние в группах в ковариате и совпадают ли средние в метрике до и после применения cuped\n",
    "\n",
    "Реализовать разбивку на бакеты, оценить t-критерием и сравнить с результатом без бакетирования:\n",
    "- на логнормальном распределении (сгенерированные данные)\n",
    "- на метрике cart_added_cnt\n",
    "(2 балла)\n",
    "\n",
    "Реализовать постстратификацию на данных shop_metrics_old для метрики cart_added_cnt:\n",
    "- на сочетании пола и возраста (возраст разбить на подгруппы: 18-24, 25-45, 46-60, 61-75, 76+) подсчитать результаты для случая без постстратификации и с постстратификацией\n",
    "- проверить мощность и корректность t-критерия для постстратифицированного случая\n",
    "(2 балла)"
   ]
  },
  {
   "cell_type": "markdown",
   "metadata": {},
   "source": [
    "## Подготовка\n",
    "### Импортируем необходимые модули"
   ]
  },
  {
   "cell_type": "code",
   "execution_count": 55,
   "metadata": {},
   "outputs": [],
   "source": [
    "import numpy as np\n",
    "import os\n",
    "import scipy\n",
    "import matplotlib.pyplot as plt\n",
    "import scipy.stats as stats\n",
    "import statsmodels\n",
    "import statsmodels.sandbox.stats.multicomp\n",
    "import pandas as pd\n",
    "from statsmodels.stats.weightstats import ztest\n",
    "\n",
    "import matplotlib.pyplot as plt\n",
    "import seaborn as sns\n",
    "\n",
    "from tqdm import tqdm\n",
    "from sklearn.utils import shuffle\n",
    "import hashlib\n",
    "from base64 import b64encode\n",
    "import collections\n",
    "import datetime"
   ]
  },
  {
   "cell_type": "markdown",
   "metadata": {},
   "source": [
    "### Чтение данных (данные доступны на оригинальном репозитории курса)"
   ]
  },
  {
   "cell_type": "code",
   "execution_count": 56,
   "metadata": {},
   "outputs": [],
   "source": [
    "shop_metrics_new = pd.read_csv('shop_df_metrics_dec.csv').drop(columns='Unnamed: 0')\n",
    "shop_metrics_old = pd.read_csv('shop_df_metrics_sept.csv').drop(columns='Unnamed: 0')\n",
    "shop_users_info = pd.read_csv('shop_df_users.csv').drop(columns='Unnamed: 0')"
   ]
  },
  {
   "cell_type": "markdown",
   "metadata": {},
   "source": [
    "### Создаем вспомогательные функции"
   ]
  },
  {
   "cell_type": "code",
   "execution_count": 57,
   "metadata": {},
   "outputs": [],
   "source": [
    "def generate_salt():\n",
    "    \"\"\"\n",
    "    Генерирует случайную соль и кодирует ее в base64.\n",
    "\n",
    "    Returns:\n",
    "    str: Сгенерированная соль в виде строки.\n",
    "    \"\"\"\n",
    "    salt = os.urandom(8)\n",
    "    return b64encode(salt).decode('ascii')\n",
    "\n",
    "def groups_splitter(df: pd.DataFrame, columns: list, user_salt=None):\n",
    "    \"\"\"\n",
    "    Разделяет группы пользователей на основе хэша, созданного из 'user_id' и соли.\n",
    "\n",
    "    Args:\n",
    "    df (pandas.DataFrame): Входной DataFrame с информацией о пользователях.\n",
    "    columns (list): Список столбцов, которые нужно вернуть в итоговом DataFrame.\n",
    "    user_salt (str, optional): Соль пользователя для создания хэша. Если не указана, генерируется случайная соль.\n",
    "\n",
    "    Returns:\n",
    "    pandas.DataFrame: DataFrame с уникальными пользователями и указанными столбцами.\n",
    "    \"\"\"\n",
    "    salt = user_salt or generate_salt()\n",
    "    \n",
    "\n",
    "    df['hash'] = ((df['user_id'].astype(str)) + '#' + salt).apply(lambda x: hashlib.sha256(x.encode('utf-8')).hexdigest())\n",
    "    df['group'] = ((df['hash'].str.slice(start=-6).apply(int, base=16) % 2).map(lambda x: 'A' if x == 0 else 'B'))\n",
    "\n",
    "    return df[columns].drop_duplicates()"
   ]
  },
  {
   "cell_type": "markdown",
   "metadata": {},
   "source": [
    "### Посмотрим распределение данных"
   ]
  },
  {
   "cell_type": "code",
   "execution_count": 58,
   "metadata": {},
   "outputs": [
    {
     "data": {
      "text/plain": [
       "<Axes: xlabel='cart_added_cnt', ylabel='Count'>"
      ]
     },
     "execution_count": 58,
     "metadata": {},
     "output_type": "execute_result"
    },
    {
     "data": {
      "image/png": "[encoded data removed]",
      "text/plain": [
       "<Figure size 470x427 with 1 Axes>"
      ]
     },
     "metadata": {},
     "output_type": "display_data"
    }
   ],
   "source": [
    "sns.histplot(data=shop_metrics_new, x='cart_added_cnt', bins=100, color='green')"
   ]
  },
  {
   "cell_type": "markdown",
   "metadata": {},
   "source": [
    "### Применим ранговую трансформацию (потом t-test) и сравним с результатами по Манну-Уитни на:\n",
    "\n",
    "* метрике cart_added_cnt (1 балл)"
   ]
  },
  {
   "cell_type": "code",
   "execution_count": 59,
   "metadata": {},
   "outputs": [],
   "source": [
    "def rank_transformation(df_a, df_b, metric):\n",
    "    \n",
    "    # Concatenate DataFrames without modifying the original ones\n",
    "    df_combined = pd.concat([df_a, df_b], axis=0).copy()\n",
    "    \n",
    "    # Rank the combined DataFrame based on the metric\n",
    "    df_combined['rank'] = df_combined[metric].rank()\n",
    "    \n",
    "    return df_combined"
   ]
  },
  {
   "cell_type": "code",
   "execution_count": 60,
   "metadata": {},
   "outputs": [],
   "source": [
    "ranked = rank_transformation(\n",
    "    shop_metrics_new[shop_metrics_new.group == 'A'],\n",
    "    shop_metrics_new[shop_metrics_new.group == 'B'], 'cart_added_cnt'\n",
    ")"
   ]
  },
  {
   "cell_type": "code",
   "execution_count": 61,
   "metadata": {},
   "outputs": [
    {
     "name": "stdout",
     "output_type": "stream",
     "text": [
      "T-тест:\n",
      "Статистика t: -1.27\n",
      "P-значение: 0.2025\n",
      "Степени свободы: 222519.0\n"
     ]
    }
   ],
   "source": [
    "def print_ttest_result(ttest_result):\n",
    "    print(\"T-тест:\")\n",
    "    print(\"Статистика t: {:.2f}\".format(ttest_result.statistic))\n",
    "    print(\"P-значение: {:.4f}\".format(ttest_result.pvalue))\n",
    "    print(\"Степени свободы: {:.1f}\".format(ttest_result.df))\n",
    "\n",
    "\n",
    "result = stats.ttest_ind(ranked[ranked.group == 'A']['rank'], ranked[ranked.group == 'B']['rank'])\n",
    "print_ttest_result(result)"
   ]
  },
  {
   "cell_type": "markdown",
   "metadata": {},
   "source": [
    "**Различий в двух группах нет**"
   ]
  },
  {
   "cell_type": "code",
   "execution_count": 62,
   "metadata": {},
   "outputs": [
    {
     "name": "stdout",
     "output_type": "stream",
     "text": [
      "Тест Манна-Уитни:\n",
      "Статистика U: 6179368188.5\n",
      "P-значение: 0.2025\n"
     ]
    }
   ],
   "source": [
    "def print_mannwhitneyu_result(mannwhitneyu_result):\n",
    "    print(\"Тест Манна-Уитни:\")\n",
    "    print(\"Статистика U: {:.1f}\".format(mannwhitneyu_result.statistic))\n",
    "    print(\"P-значение: {:.4f}\".format(mannwhitneyu_result.pvalue))\n",
    "\n",
    "\n",
    "result = stats.mannwhitneyu(\n",
    "    shop_metrics_new[shop_metrics_new.group == 'A']['cart_added_cnt'],\n",
    "    shop_metrics_new[shop_metrics_new.group == 'B']['cart_added_cnt']\n",
    ")\n",
    "print_mannwhitneyu_result(result)"
   ]
  },
  {
   "cell_type": "markdown",
   "metadata": {},
   "source": [
    "Посмотрим на мощность"
   ]
  },
  {
   "cell_type": "code",
   "execution_count": 63,
   "metadata": {},
   "outputs": [],
   "source": [
    "shop = shop_metrics_new.drop(columns=['group'])"
   ]
  },
  {
   "cell_type": "code",
   "execution_count": 64,
   "metadata": {},
   "outputs": [],
   "source": [
    "def check_uniform(p_values, alpha=0.05):\n",
    "    \"\"\"\n",
    "    Проверяет, является ли набор p-values равномерно распределенным.\n",
    "\n",
    "    Аргументы:\n",
    "    p_values : list или array\n",
    "        Список или массив p-values для проверки.\n",
    "    alpha : float, optional\n",
    "        Уровень значимости для теста Колмогорова-Смирнова. По умолчанию 0.05.\n",
    "\n",
    "    Возвращает:\n",
    "    str\n",
    "        Строка, сообщающая о результате проверки.\n",
    "    \"\"\"\n",
    "\n",
    "    # Проводим тест Колмогорова-Смирнова на равномерность распределения\n",
    "    stat, p_value = scipy.stats.kstest(p_values, 'uniform')\n",
    "\n",
    "    # Проверяем, является ли p-value меньше заданного уровня значимости\n",
    "    if p_value < alpha:\n",
    "        return f'p_value = {p_value:.4f} - p_values не соответствует равномерному распределению'\n",
    "    else:\n",
    "        return f'p_value = {p_value:.4f} - p_values соответствует равномерному распределению'\n"
   ]
  },
  {
   "cell_type": "markdown",
   "metadata": {},
   "source": [
    "Мощность критерия Манну-Уитни:"
   ]
  },
  {
   "cell_type": "code",
   "execution_count": 65,
   "metadata": {},
   "outputs": [
    {
     "name": "stderr",
     "output_type": "stream",
     "text": [
      "  0%|          | 0/100 [00:00<?, ?it/s]"
     ]
    },
    {
     "name": "stderr",
     "output_type": "stream",
     "text": [
      "100%|██████████| 100/100 [01:59<00:00,  1.19s/it]\n"
     ]
    },
    {
     "name": "stdout",
     "output_type": "stream",
     "text": [
      "p_value = 0.1815 - p_values соответствует равномерному распределению\n",
      " power: 100.0% , correctness: 95.0%\n"
     ]
    },
    {
     "data": {
      "image/png": "[encoded data removed]",
      "text/plain": [
       "<Figure size 470x427 with 1 Axes>"
      ]
     },
     "metadata": {},
     "output_type": "display_data"
    }
   ],
   "source": [
    "correctness = []\n",
    "power = []\n",
    "correctness_mw = []\n",
    "power_mw = []\n",
    "\n",
    "for _ in tqdm(range(100)):\n",
    "    new_group = groups_splitter(shop.copy(), columns=['user_id', 'group'], user_salt=generate_salt())\n",
    "    new_df = pd.merge(shop, new_group, how=\"left\", on=['user_id']).drop_duplicates()\n",
    "    ranked_df = rank_transformation(new_df[new_df.group == 'A'], new_df[new_df.group == 'B'], 'cart_added_cnt')\n",
    "    vec_a = ranked_df[(ranked_df['group'] == 'A')]['rank']\n",
    "    vec_b = ranked_df[(ranked_df['group'] == 'B')]['rank']\n",
    "    vec_b_effect = new_df[new_df['group'] == 'B']['cart_added_cnt'] * 1.05\n",
    "    new_df_b = new_df[new_df.group == 'B'].drop(columns=['cart_added_cnt'])\n",
    "    new_df_b['cart_added_cnt'] = list(vec_b_effect)\n",
    "    ranked_df_effect = rank_transformation(new_df[new_df.group == 'A'], new_df_b, 'cart_added_cnt')\n",
    "    vec_a_power = ranked_df_effect[(ranked_df_effect['group'] == 'A')]['rank']\n",
    "    vec_b_power = ranked_df_effect[(ranked_df_effect['group'] == 'B')]['rank']\n",
    "    p_cor, p_power = stats.ttest_ind(vec_a, vec_b)[1], stats.ttest_ind(vec_a_power, vec_b_power)[1]\n",
    "    p_cor_mw, p_power_mw = stats.mannwhitneyu(vec_a, vec_b)[1], stats.mannwhitneyu(vec_a_power, vec_b_power)[1]\n",
    "    correctness.append(p_cor)\n",
    "    power.append(p_power)\n",
    "    correctness_mw.append(p_cor_mw)\n",
    "    power_mw.append(p_power_mw)\n",
    "\n",
    "correctness = np.array(correctness)\n",
    "correctness_mw = np.array(correctness_mw)\n",
    "\n",
    "sns.set_theme(rc={'figure.figsize':(4.7,4.27)})\n",
    "sns.histplot(data=correctness, bins=10, color='blue', kde=True)\n",
    "\n",
    "power = np.array(power)\n",
    "power_mw = np.array(power_mw)\n",
    "\n",
    "print(check_uniform(correctness))\n",
    "print(f' power: {(power[power < 0.05].shape[0] / power.shape[0]) * 100}% , correctness: {(1 - (correctness[correctness < 0.05].shape[0] / correctness.shape[0])) * 100}%')"
   ]
  },
  {
   "cell_type": "markdown",
   "metadata": {},
   "source": [
    "**Мощность и корректность критериев также равны**"
   ]
  },
  {
   "cell_type": "markdown",
   "metadata": {},
   "source": [
    "## Реализовать cuped-трансформацию и сравнить мощность t-критерия на:\n",
    "\n",
    "* обычной метрике cart_added_cnt\n",
    "* логарфимированной метрике cart_added_cnt\n",
    "* метрике cart_added_cnt (а после подвергнуть ранговому преобразованию) (3 балла)"
   ]
  },
  {
   "cell_type": "code",
   "execution_count": 66,
   "metadata": {},
   "outputs": [],
   "source": [
    "def cuped_transform(df: pd.DataFrame, metrics):\n",
    "    \"\"\"\n",
    "    Применяет метод контролируемой уменьшающей ошибку дисперсии (CUPED) к указанным метрикам в DataFrame.\n",
    "\n",
    "    Аргументы:\n",
    "    df : DataFrame\n",
    "        DataFrame, к которому применяется преобразование.\n",
    "    metrics : list\n",
    "        Список имен метрик, к которым будет применено преобразование.\n",
    "\n",
    "    Возвращает:\n",
    "    DataFrame\n",
    "        Преобразованный DataFrame.\n",
    "    \"\"\"\n",
    "\n",
    "    new_columns = [str(m+'_cuped') for m in metrics]\n",
    "    df[new_columns] = pd.DataFrame([[0] * len(new_columns)], index=df.index)\n",
    "    df_mini = df.fillna(0)\n",
    "\n",
    "    for m in metrics:\n",
    "        covariate_column = str(m+'_covariate')\n",
    "        cuped_column = str(m+'_cuped')\n",
    "\n",
    "        # Вычисление среднего значения ковариативной переменной\n",
    "        mean_covariate = df_mini[covariate_column].mean()\n",
    "        theta = (df_mini[m].cov(df_mini[covariate_column])) / (df_mini.loc[:,covariate_column].var())\n",
    "        df_mini[cuped_column] = df_mini[m] - (df_mini[covariate_column] - mean_covariate) * theta\n",
    "\n",
    "    df.update(df_mini)\n",
    "    return df.drop_duplicates()"
   ]
  },
  {
   "cell_type": "code",
   "execution_count": 67,
   "metadata": {},
   "outputs": [],
   "source": [
    "# Объединяем новые и старые метрики магазина\n",
    "shop_metrics_all = pd.merge(\n",
    "    shop_metrics_new, \n",
    "    shop_metrics_old[['user_id', 'cart_added_cnt']], \n",
    "    on=['user_id'], \n",
    "    how='left')\n",
    "\n",
    "# Переименовываем столбцы для удобства восприятия\n",
    "shop_metrics_all = shop_metrics_all\\\n",
    "    .rename(\n",
    "        columns={\n",
    "            'cart_added_cnt_x': 'cart_added_cnt', \n",
    "            'cart_added_cnt_y': 'cart_added_cnt_covariate'\n",
    "        }\n",
    "    )\n"
   ]
  },
  {
   "cell_type": "code",
   "execution_count": 68,
   "metadata": {},
   "outputs": [
    {
     "name": "stderr",
     "output_type": "stream",
     "text": [
      "/tmp/ipykernel_389426/2895662416.py:29: FutureWarning: Setting an item of incompatible dtype is deprecated and will raise in a future error of pandas. Value '[0.1327605 0.1327605 0.1327605 ... 0.1327605 0.1327605 0.1327605]' has dtype incompatible with int64, please explicitly cast to a compatible dtype first.\n",
      "  df.update(df_mini)\n"
     ]
    }
   ],
   "source": [
    "shop_metrics_all_cuped = cuped_transform(shop_metrics_all.copy(), ['cart_added_cnt'])"
   ]
  },
  {
   "cell_type": "code",
   "execution_count": 69,
   "metadata": {},
   "outputs": [
    {
     "data": {
      "text/html": [
       "<div>\n",
       "<style scoped>\n",
       "    .dataframe tbody tr th:only-of-type {\n",
       "        vertical-align: middle;\n",
       "    }\n",
       "\n",
       "    .dataframe tbody tr th {\n",
       "        vertical-align: top;\n",
       "    }\n",
       "\n",
       "    .dataframe thead th {\n",
       "        text-align: right;\n",
       "    }\n",
       "</style>\n",
       "<table border=\"1\" class=\"dataframe\">\n",
       "  <thead>\n",
       "    <tr style=\"text-align: right;\">\n",
       "      <th></th>\n",
       "      <th>user_id</th>\n",
       "      <th>group</th>\n",
       "      <th>is_viewed</th>\n",
       "      <th>products_viewed_cnt</th>\n",
       "      <th>price_sum</th>\n",
       "      <th>is_cart_added</th>\n",
       "      <th>is_purchased</th>\n",
       "      <th>cart_added_cnt</th>\n",
       "      <th>purchased_cnt</th>\n",
       "      <th>cart_added_cnt_covariate</th>\n",
       "      <th>cart_added_cnt_cuped</th>\n",
       "    </tr>\n",
       "  </thead>\n",
       "  <tbody>\n",
       "    <tr>\n",
       "      <th>0</th>\n",
       "      <td>1515915625353230683</td>\n",
       "      <td>A</td>\n",
       "      <td>1</td>\n",
       "      <td>1</td>\n",
       "      <td>339.79</td>\n",
       "      <td>0.0</td>\n",
       "      <td>0.0</td>\n",
       "      <td>0</td>\n",
       "      <td>0</td>\n",
       "      <td>0</td>\n",
       "      <td>0.132761</td>\n",
       "    </tr>\n",
       "    <tr>\n",
       "      <th>1</th>\n",
       "      <td>1515915625353234047</td>\n",
       "      <td>A</td>\n",
       "      <td>1</td>\n",
       "      <td>9</td>\n",
       "      <td>861.86</td>\n",
       "      <td>0.0</td>\n",
       "      <td>0.0</td>\n",
       "      <td>0</td>\n",
       "      <td>0</td>\n",
       "      <td>0</td>\n",
       "      <td>0.132761</td>\n",
       "    </tr>\n",
       "    <tr>\n",
       "      <th>2</th>\n",
       "      <td>1515915625353236157</td>\n",
       "      <td>A</td>\n",
       "      <td>1</td>\n",
       "      <td>4</td>\n",
       "      <td>179.60</td>\n",
       "      <td>0.0</td>\n",
       "      <td>0.0</td>\n",
       "      <td>0</td>\n",
       "      <td>0</td>\n",
       "      <td>0</td>\n",
       "      <td>0.132761</td>\n",
       "    </tr>\n",
       "  </tbody>\n",
       "</table>\n",
       "</div>"
      ],
      "text/plain": [
       "               user_id group  is_viewed  products_viewed_cnt  price_sum  \\\n",
       "0  1515915625353230683     A          1                    1     339.79   \n",
       "1  1515915625353234047     A          1                    9     861.86   \n",
       "2  1515915625353236157     A          1                    4     179.60   \n",
       "\n",
       "   is_cart_added  is_purchased  cart_added_cnt  purchased_cnt  \\\n",
       "0            0.0           0.0               0              0   \n",
       "1            0.0           0.0               0              0   \n",
       "2            0.0           0.0               0              0   \n",
       "\n",
       "   cart_added_cnt_covariate  cart_added_cnt_cuped  \n",
       "0                         0              0.132761  \n",
       "1                         0              0.132761  \n",
       "2                         0              0.132761  "
      ]
     },
     "execution_count": 69,
     "metadata": {},
     "output_type": "execute_result"
    }
   ],
   "source": [
    "shop_metrics_all_cuped.head(3)"
   ]
  },
  {
   "cell_type": "code",
   "execution_count": 70,
   "metadata": {},
   "outputs": [
    {
     "name": "stdout",
     "output_type": "stream",
     "text": [
      "Сравним средние:\n",
      "Метрика с CUPED в группе A: 0.1364, Метрика с CUPED в группе B: 0.1372\n",
      "Метрика без CUPED в группе A: 0.135, Метрика без CUPED в группе B: 0.1386\n",
      "\n",
      "Сравним дисперсии:\n",
      "Дисперсия метрики с CUPED в группе A: 0.0182, Дисперсия метрики с CUPED в группе B: 0.0215\n",
      "Дисперсия метрики без CUPED в группе A: 0.3806, Дисперсия метрики без CUPED в группе B: 0.4247\n",
      "Разница дисперсии метрики и метрики с CUPED в группе A: 0.3624\n",
      "Разница дисперсии метрики и метрики с CUPED в группе B: 0.4032\n"
     ]
    }
   ],
   "source": [
    "def print_group_mean_var(df, metric):\n",
    "    \"\"\"\n",
    "    Выводит средние и дисперсии метрик для групп A и B, как с применением CUPED, так и без него.\n",
    "\n",
    "    Аргументы:\n",
    "    df : DataFrame\n",
    "        DataFrame с данными.\n",
    "    metric : str\n",
    "        Название метрики.\n",
    "\n",
    "    Возвращает:\n",
    "    None\n",
    "    \"\"\"\n",
    "    # Вычисляем средние и дисперсии для групп A и B с CUPED и без него\n",
    "    group_a_mean = round(df[df.group == \"A\"][metric].mean(), 4)\n",
    "    group_b_mean = round(df[df.group == \"B\"][metric].mean(), 4)\n",
    "    group_a_var = round(df[df.group == \"A\"][metric].var(), 4)\n",
    "    group_b_var = round(df[df.group == \"B\"][metric].var(), 4)\n",
    "    group_a_cuped_mean = round(df[df.group == \"A\"][f\"{metric}_cuped\"].mean(), 4)\n",
    "    group_b_cuped_mean = round(df[df.group == \"B\"][f\"{metric}_cuped\"].mean(), 4)\n",
    "    group_a_cuped_var = round(df[df.group == \"A\"][f\"{metric}_cuped\"].var(), 4)\n",
    "    group_b_cuped_var = round(df[df.group == \"B\"][f\"{metric}_cuped\"].var(), 4)\n",
    "\n",
    "    # Выводим результаты\n",
    "    print('Сравним средние:')\n",
    "    print(f\"Метрика с CUPED в группе A: {group_a_cuped_mean}, Метрика с CUPED в группе B: {group_b_cuped_mean}\")\n",
    "    print(f\"Метрика без CUPED в группе A: {group_a_mean}, Метрика без CUPED в группе B: {group_b_mean}\")\n",
    "    print('\\nСравним дисперсии:')\n",
    "    print(f\"Дисперсия метрики с CUPED в группе A: {group_a_cuped_var}, Дисперсия метрики с CUPED в группе B: {group_b_cuped_var}\")\n",
    "    print(f\"Дисперсия метрики без CUPED в группе A: {group_a_var}, Дисперсия метрики без CUPED в группе B: {group_b_var}\")\n",
    "    print(f\"Разница дисперсии метрики и метрики с CUPED в группе A: {group_a_var - group_a_cuped_var}\")\n",
    "    print(f\"Разница дисперсии метрики и метрики с CUPED в группе B: {group_b_var - group_b_cuped_var}\")\n",
    "\n",
    "# Применяем функцию к DataFrame и метрике\n",
    "print_group_mean_var(shop_metrics_all_cuped, 'cart_added_cnt')\n"
   ]
  },
  {
   "cell_type": "markdown",
   "metadata": {},
   "source": [
    "Как для группы A, так и для группы B, средние значения метрик с применением CUPED немного выше, чем средние значения метрик без CUPED. Также видно, что дисперсии метрик с применением CUPED меньше, чем дисперсии метрик без CUPED, как для группы A, так и для группы B. Разница в дисперсиях между метриками без CUPED и с CUPED также значительна.\n",
    "\n",
    "Применение метода CUPED помогло снизить дисперсию метрик в обеих группах. "
   ]
  },
  {
   "cell_type": "markdown",
   "metadata": {},
   "source": [
    "### t-test на измененной метрике"
   ]
  },
  {
   "cell_type": "code",
   "execution_count": 71,
   "metadata": {},
   "outputs": [
    {
     "name": "stdout",
     "output_type": "stream",
     "text": [
      "T-тест:\n",
      "Статистика t: -1.39\n",
      "P-значение: 0.1659\n",
      "Степени свободы: 222519.0\n",
      "\n"
     ]
    }
   ],
   "source": [
    "# Проводим t-тест\n",
    "t_statistic, t_p_value = stats.ttest_ind(\n",
    "    shop_metrics_all_cuped[shop_metrics_all_cuped.group == 'A']['cart_added_cnt_cuped'],\n",
    "    shop_metrics_all_cuped[shop_metrics_all_cuped.group == 'B']['cart_added_cnt_cuped']\n",
    ")\n",
    "\n",
    "\n",
    "print(\"T-тест:\")\n",
    "print(f\"Статистика t: {t_statistic:.2f}\")\n",
    "print(f\"P-значение: {t_p_value:.4f}\")\n",
    "print(f\"Степени свободы: {len(shop_metrics_all_cuped[shop_metrics_all_cuped.group == 'A']) + len(shop_metrics_all_cuped[shop_metrics_all_cuped.group == 'B']) - 2:.1f}\")\n",
    "print()"
   ]
  },
  {
   "cell_type": "markdown",
   "metadata": {},
   "source": [
    "**t-test также указывает на отсутствие значимых различий**"
   ]
  },
  {
   "cell_type": "markdown",
   "metadata": {},
   "source": [
    "### Посмотрим на мощность при эффекте в 1%"
   ]
  },
  {
   "cell_type": "code",
   "execution_count": null,
   "metadata": {},
   "outputs": [],
   "source": [
    "correctness = []\n",
    "power = []\n",
    "\n",
    "for i in tqdm(range(100)):\n",
    "    new_group = groups_splitter(shop.copy(), columns=['user_id', 'group'], user_salt=generate_salt())\n",
    "    new_df = pd.merge(shop, new_group, how=\"left\", on=['user_id']).drop_duplicates()\n",
    "    all_df = pd.merge(new_df, shop_metrics_old[['user_id', 'cart_added_cnt']], on=['user_id'], how='left')\n",
    "    all_df = all_df.rename(columns={'cart_added_cnt_x': 'cart_added_cnt', 'cart_added_cnt_y': 'cart_added_cnt_covariate'})\n",
    "    cuped_df = cuped_transform(all_df, ['cart_added_cnt'])\n",
    "    vec_a = cuped_df[(cuped_df['group'] == 'A')]['cart_added_cnt_cuped']\n",
    "    vec_b = cuped_df[(cuped_df['group'] == 'B')]['cart_added_cnt_cuped']\n",
    "    vec_b_effect = vec_b * 1.01\n",
    "    p_cor, p_power = stats.ttest_ind(vec_a, vec_b)[1], stats.ttest_ind(vec_a, vec_b_effect)[1]\n",
    "\n",
    "    correctness.append(p_cor)\n",
    "    power.append(p_power)"
   ]
  },
  {
   "cell_type": "code",
   "execution_count": 73,
   "metadata": {},
   "outputs": [
    {
     "name": "stdout",
     "output_type": "stream",
     "text": [
      "p_value = 0.3844 - p_values соответствует равномерному распределению\n",
      "power: 52.0% , correctness: 93.0%\n"
     ]
    },
    {
     "data": {
      "image/png": "[encoded data removed]",
      "text/plain": [
       "<Figure size 470x427 with 1 Axes>"
      ]
     },
     "metadata": {},
     "output_type": "display_data"
    }
   ],
   "source": [
    "correctness = np.array(correctness)\n",
    "power = np.array(power)\n",
    "sns.set_theme(rc={'figure.figsize':(4.7,4.27)})\n",
    "sns.histplot(data=correctness, bins=10, color='brown', kde=True)\n",
    "print(check_uniform(correctness))\n",
    "print(f'power: {(power[power < 0.05].shape[0] / power.shape[0]) * 100}% , correctness: {(1 - (correctness[correctness < 0.05].shape[0] / correctness.shape[0])) * 100}%')\n"
   ]
  },
  {
   "cell_type": "markdown",
   "metadata": {},
   "source": [
    "### Логарифмирование"
   ]
  },
  {
   "cell_type": "code",
   "execution_count": 75,
   "metadata": {},
   "outputs": [
    {
     "name": "stderr",
     "output_type": "stream",
     "text": [
      "/tmp/ipykernel_389426/2895662416.py:29: FutureWarning: Setting an item of incompatible dtype is deprecated and will raise in a future error of pandas. Value '[0.08000403 0.08000403 0.08000403 ... 0.08000403 0.08000403 0.08000403]' has dtype incompatible with int64, please explicitly cast to a compatible dtype first.\n",
      "  df.update(df_mini)\n"
     ]
    }
   ],
   "source": [
    "# Прологарифмируем метрики с добавлением 1 для предотвращения логарифма нуля\n",
    "shop_metrics_all['cart_added_cnt_ln'] = np.log(shop_metrics_all['cart_added_cnt'] + 1)\n",
    "shop_metrics_all['cart_added_cnt_ln_covariate'] = np.log(shop_metrics_all['cart_added_cnt_covariate'] + 1)\n",
    "\n",
    "# Трансформируем метрику с применением CUPED\n",
    "shop_metrics_all_ln_cuped = cuped_transform(shop_metrics_all.copy(), ['cart_added_cnt_ln'])"
   ]
  },
  {
   "cell_type": "code",
   "execution_count": 76,
   "metadata": {},
   "outputs": [
    {
     "name": "stdout",
     "output_type": "stream",
     "text": [
      "T-тест:\n",
      "Статистика t: -1.45\n",
      "P-значение: 0.1460\n",
      "Степени свободы: 222519.0\n",
      "\n"
     ]
    }
   ],
   "source": [
    "# Проводим t-тест\n",
    "t_statistic, t_p_value = stats.ttest_ind(\n",
    "    shop_metrics_all_ln_cuped[shop_metrics_all_ln_cuped.group == 'A']['cart_added_cnt_ln'],\n",
    "    shop_metrics_all_ln_cuped[shop_metrics_all_ln_cuped.group == 'B']['cart_added_cnt_ln']\n",
    ")\n",
    "\n",
    "\n",
    "print(\"T-тест:\")\n",
    "print(f\"Статистика t: {t_statistic:.2f}\")\n",
    "print(f\"P-значение: {t_p_value:.4f}\")\n",
    "print(f\"Степени свободы: {len(shop_metrics_all_ln_cuped[shop_metrics_all_ln_cuped.group == 'A']) + len(shop_metrics_all_ln_cuped[shop_metrics_all_ln_cuped.group == 'B']) - 2:.1f}\")\n",
    "print()"
   ]
  },
  {
   "cell_type": "markdown",
   "metadata": {},
   "source": [
    "**p-value снизилось, на группы по-прежнему не имеют значимых отличий.**"
   ]
  },
  {
   "cell_type": "markdown",
   "metadata": {},
   "source": [
    "### Сравним средние в измененной метрике и дисперсии"
   ]
  },
  {
   "cell_type": "code",
   "execution_count": 77,
   "metadata": {},
   "outputs": [
    {
     "name": "stdout",
     "output_type": "stream",
     "text": [
      "Сравним средние:\n",
      "Метрика с CUPED в группе A: 0.0803, Метрика с CUPED в группе B: 0.0807\n",
      "Метрика без CUPED в группе A: 0.0797, Метрика без CUPED в группе B: 0.0813\n",
      "\n",
      "Сравним дисперсии:\n",
      "Дисперсия метрики с CUPED в группе A: 0.0021, Дисперсия метрики с CUPED в группе B: 0.0018\n",
      "Дисперсия метрики без CUPED в группе A: 0.0647, Дисперсия метрики без CUPED в группе B: 0.0663\n",
      "Разница дисперсии метрики и метрики с CUPED в группе A: 0.06259999999999999\n",
      "Разница дисперсии метрики и метрики с CUPED в группе B: 0.0645\n"
     ]
    }
   ],
   "source": [
    "print_group_mean_var(shop_metrics_all_ln_cuped, 'cart_added_cnt_ln')"
   ]
  },
  {
   "cell_type": "markdown",
   "metadata": {},
   "source": [
    "Посмотрим на мощность:"
   ]
  },
  {
   "cell_type": "code",
   "execution_count": null,
   "metadata": {},
   "outputs": [],
   "source": [
    "correctness = []\n",
    "power = []\n",
    "\n",
    "for i in tqdm(range(100)):\n",
    "\n",
    "    new_group = groups_splitter(shop.copy(), columns=['user_id', 'group'], user_salt=generate_salt())\n",
    "    new_df = pd.merge(shop, new_group, how=\"left\", on=['user_id']).drop_duplicates()\n",
    "    all_df = pd.merge(new_df, shop_metrics_old[['user_id', 'cart_added_cnt']], on=['user_id'], how='left')\n",
    "    all_df = all_df.rename(columns={'cart_added_cnt_x': 'cart_added_cnt', 'cart_added_cnt_y': 'cart_added_cnt_covariate'})\n",
    "\n",
    "    all_df['cart_added_cnt_ln'] = np.log(all_df['cart_added_cnt'] + 1)\n",
    "    all_df['cart_added_cnt_ln_covariate'] = np.log(all_df['cart_added_cnt_covariate'] + 1)\n",
    "\n",
    "    cuped_df = cuped_transform(all_df, ['cart_added_cnt_ln'])\n",
    "\n",
    "    vec_a = cuped_df[(cuped_df['group'] == 'A')]['cart_added_cnt_ln_cuped']\n",
    "    vec_b = cuped_df[(cuped_df['group'] == 'B')]['cart_added_cnt_ln_cuped']\n",
    "    vec_b_effect = vec_b * np.log(1.01)\n",
    "\n",
    "    # vec_b_effect_ln = np.log(vec_b_effect + 1)\n",
    "\n",
    "    p_cor, p_power = stats.ttest_ind(vec_a, vec_b)[1], stats.ttest_ind(vec_a, vec_b_effect)[1]\n",
    "    correctness.append(p_cor)\n",
    "    power.append(p_power)"
   ]
  },
  {
   "cell_type": "code",
   "execution_count": 83,
   "metadata": {},
   "outputs": [
    {
     "name": "stdout",
     "output_type": "stream",
     "text": [
      "p_value = 0.2710 - p_values соответствует равномерному распределению\n",
      " power: 100.0% , correctness: 96.0%\n"
     ]
    },
    {
     "data": {
      "image/png": "[encoded data removed]",
      "text/plain": [
       "<Figure size 470x427 with 1 Axes>"
      ]
     },
     "metadata": {},
     "output_type": "display_data"
    }
   ],
   "source": [
    "correctness = np.array(correctness)\n",
    "sns.histplot(data=correctness, bins=10, color='brown', kde=True)\n",
    "\n",
    "power = np.array(power)\n",
    "print(check_uniform(correctness))\n",
    "\n",
    "print(f' power: {(power[power < 0.05].shape[0] / power.shape[0]) * 100}% , correctness: {(1 - (correctness[correctness < 0.05].shape[0] / correctness.shape[0])) * 100}%')"
   ]
  },
  {
   "cell_type": "markdown",
   "metadata": {},
   "source": [
    "## Реализовать cuped-трансформацию на метрике cart_added_cnt и подвергнем ее ранговому преобразованию"
   ]
  },
  {
   "cell_type": "code",
   "execution_count": 84,
   "metadata": {},
   "outputs": [
    {
     "name": "stderr",
     "output_type": "stream",
     "text": [
      "/tmp/ipykernel_389426/2895662416.py:29: FutureWarning: Setting an item of incompatible dtype is deprecated and will raise in a future error of pandas. Value '[0.1327605 0.1327605 0.1327605 ... 0.1327605 0.1327605 0.1327605]' has dtype incompatible with int64, please explicitly cast to a compatible dtype first.\n",
      "  df.update(df_mini)\n"
     ]
    }
   ],
   "source": [
    "shop_metrics_all_cuped = cuped_transform(shop_metrics_all.copy(), ['cart_added_cnt'])\n",
    "\n",
    "ranked = rank_transformation(\n",
    "    shop_metrics_all_cuped[shop_metrics_all_cuped.group == 'A'],\n",
    "    shop_metrics_all_cuped[shop_metrics_all_cuped.group == 'B'], 'cart_added_cnt_cuped'\n",
    ")"
   ]
  },
  {
   "cell_type": "code",
   "execution_count": 86,
   "metadata": {},
   "outputs": [
    {
     "name": "stdout",
     "output_type": "stream",
     "text": [
      "T-тест:\n",
      "Статистика t: -1.45\n",
      "P-значение: 0.1482\n",
      "Степени свободы: 222519.0\n",
      "\n"
     ]
    }
   ],
   "source": [
    "# Проводим t-тест\n",
    "t_statistic, t_p_value = stats.ttest_ind(ranked[ranked.group == 'A']['rank'], ranked[ranked.group == 'B']['rank'])\n",
    "\n",
    "\n",
    "print(\"T-тест:\")\n",
    "print(f\"Статистика t: {t_statistic:.2f}\")\n",
    "print(f\"P-значение: {t_p_value:.4f}\")\n",
    "print(f\"Степени свободы: {len(shop_metrics_all_ln_cuped[shop_metrics_all_ln_cuped.group == 'A']) + len(shop_metrics_all_ln_cuped[shop_metrics_all_ln_cuped.group == 'B']) - 2:.1f}\")\n",
    "print()"
   ]
  },
  {
   "cell_type": "code",
   "execution_count": null,
   "metadata": {},
   "outputs": [],
   "source": [
    "correctness = []\n",
    "power = []\n",
    "\n",
    "for i in tqdm(range(100)):\n",
    "\n",
    "    new_group = groups_splitter(shop.copy(), columns=['user_id', 'group'], user_salt=generate_salt())\n",
    "    new_df = pd.merge(shop, new_group, how=\"left\", on=['user_id']).drop_duplicates()\n",
    "    all_df = pd.merge(new_df, shop_metrics_old[['user_id', 'cart_added_cnt']], on=['user_id'], how='left')\n",
    "    all_df = all_df.rename(columns={'cart_added_cnt_x': 'cart_added_cnt', 'cart_added_cnt_y': 'cart_added_cnt_covariate'})\n",
    "\n",
    "    cuped_df = cuped_transform(all_df, ['cart_added_cnt'])\n",
    "    ranked = rank_transformation(cuped_df[cuped_df.group == 'A'],\n",
    "                                 cuped_df[cuped_df.group == 'B'], 'cart_added_cnt_cuped')\n",
    "\n",
    "    vec_a = ranked[(ranked['group'] == 'A')]['rank']\n",
    "    vec_b = ranked[(ranked['group'] == 'B')]['rank']\n",
    "    vec_b_effect = vec_b * 1.01\n",
    "\n",
    "    p_cor, p_power = stats.ttest_ind(vec_a, vec_b)[1], stats.ttest_ind(vec_a, vec_b_effect)[1]\n",
    "    correctness.append(p_cor)\n",
    "    power.append(p_power)"
   ]
  },
  {
   "cell_type": "code",
   "execution_count": 89,
   "metadata": {},
   "outputs": [
    {
     "name": "stdout",
     "output_type": "stream",
     "text": [
      "p_value = 0.7779 - p_values соответствует равномерному распределению\n",
      " power: 100.0% , correctness: 95.0%\n"
     ]
    },
    {
     "data": {
      "image/png": "[encoded data removed]",
      "text/plain": [
       "<Figure size 800x400 with 1 Axes>"
      ]
     },
     "metadata": {},
     "output_type": "display_data"
    }
   ],
   "source": [
    "correctness = np.array(correctness)\n",
    "sns.set_theme(rc={'figure.figsize':(8,4)})\n",
    "sns.histplot(data=correctness, bins=10, color='brown', kde=True)\n",
    "\n",
    "power = np.array(power)\n",
    "print(check_uniform(correctness))\n",
    "print(f' power: {(power[power < 0.05].shape[0] / power.shape[0]) * 100}% , correctness: {(1 - (correctness[correctness < 0.05].shape[0] / correctness.shape[0])) * 100}%')"
   ]
  },
  {
   "cell_type": "markdown",
   "metadata": {},
   "source": [
    "#### Реализовать разбивку на бакеты, оценить t-критерием и сравнить с результатом без бакетирования:\n",
    "\n",
    "* на логнормальном распределении (сгенерированные данные)\n",
    "* на метрике cart_added_cnt (2 балла)"
   ]
  },
  {
   "cell_type": "code",
   "execution_count": 91,
   "metadata": {},
   "outputs": [
    {
     "data": {
      "text/html": [
       "<div>\n",
       "<style scoped>\n",
       "    .dataframe tbody tr th:only-of-type {\n",
       "        vertical-align: middle;\n",
       "    }\n",
       "\n",
       "    .dataframe tbody tr th {\n",
       "        vertical-align: top;\n",
       "    }\n",
       "\n",
       "    .dataframe thead th {\n",
       "        text-align: right;\n",
       "    }\n",
       "</style>\n",
       "<table border=\"1\" class=\"dataframe\">\n",
       "  <thead>\n",
       "    <tr style=\"text-align: right;\">\n",
       "      <th></th>\n",
       "      <th>user_id</th>\n",
       "      <th>metric</th>\n",
       "    </tr>\n",
       "  </thead>\n",
       "  <tbody>\n",
       "    <tr>\n",
       "      <th>0</th>\n",
       "      <td>0</td>\n",
       "      <td>0.021062</td>\n",
       "    </tr>\n",
       "    <tr>\n",
       "      <th>1</th>\n",
       "      <td>1</td>\n",
       "      <td>0.026970</td>\n",
       "    </tr>\n",
       "    <tr>\n",
       "      <th>2</th>\n",
       "      <td>2</td>\n",
       "      <td>0.030553</td>\n",
       "    </tr>\n",
       "    <tr>\n",
       "      <th>3</th>\n",
       "      <td>3</td>\n",
       "      <td>0.034037</td>\n",
       "    </tr>\n",
       "    <tr>\n",
       "      <th>4</th>\n",
       "      <td>4</td>\n",
       "      <td>0.036978</td>\n",
       "    </tr>\n",
       "  </tbody>\n",
       "</table>\n",
       "</div>"
      ],
      "text/plain": [
       "   user_id    metric\n",
       "0        0  0.021062\n",
       "1        1  0.026970\n",
       "2        2  0.030553\n",
       "3        3  0.034037\n",
       "4        4  0.036978"
      ]
     },
     "execution_count": 91,
     "metadata": {},
     "output_type": "execute_result"
    }
   ],
   "source": [
    "# Генерируем логнормальное распределение\n",
    "data = np.random.lognormal(0, 1, 100_000)\n",
    "\n",
    "# Разбиваем данные на равные бакеты\n",
    "num_buckets = 10000\n",
    "sorted_data = np.sort(data)\n",
    "percentiles = np.linspace(0, 100, num_buckets + 1)\n",
    "bucket_edges = np.percentile(sorted_data, percentiles)\n",
    "buckets = [sorted_data[(sorted_data >= bucket_edges[i]) & (sorted_data < bucket_edges[i + 1])] for i in range(num_buckets)]\n",
    "\n",
    "# Берем среднее значение для каждого бакета\n",
    "bucket_means = [np.mean(bucket) for bucket in buckets]\n",
    "\n",
    "# Создаем DataFrame для данных и средних значений бакетов\n",
    "data = pd.DataFrame({\"user_id\": np.arange(len(data)), \"metric\": data})\n",
    "data_bucket_means = pd.DataFrame({\"user_id\": np.arange(len(bucket_means)), \"metric\": bucket_means})\n",
    "\n",
    "data_bucket_means.head()"
   ]
  },
  {
   "cell_type": "markdown",
   "metadata": {},
   "source": [
    "### без бакетирования:"
   ]
  },
  {
   "cell_type": "code",
   "execution_count": 94,
   "metadata": {},
   "outputs": [
    {
     "name": "stderr",
     "output_type": "stream",
     "text": [
      "100%|██████████| 100/100 [00:28<00:00,  3.55it/s]\n"
     ]
    }
   ],
   "source": [
    "correctness = []\n",
    "power = []\n",
    "\n",
    "for _ in tqdm(range(100)):\n",
    "    new_group = groups_splitter(data.copy(), columns=['user_id', 'group'], user_salt=generate_salt())\n",
    "    new_df = pd.merge(data, new_group, how=\"left\", on=['user_id']).drop_duplicates()\n",
    "\n",
    "    vec_a = new_df.loc[new_df['group'] == 'A', 'metric']\n",
    "    vec_b = new_df.loc[new_df['group'] == 'B', 'metric']\n",
    "\n",
    "    vec_b_effect = vec_b * 1.03\n",
    "\n",
    "    p_cor = stats.ttest_ind(vec_a, vec_b)[1]\n",
    "    p_power = stats.ttest_ind(vec_a, vec_b_effect)[1]\n",
    "\n",
    "    correctness.append(p_cor)\n",
    "    power.append(p_power)\n"
   ]
  },
  {
   "cell_type": "code",
   "execution_count": 107,
   "metadata": {},
   "outputs": [
    {
     "name": "stdout",
     "output_type": "stream",
     "text": [
      " power: 98.0% , correctness: 93.0%\n"
     ]
    },
    {
     "data": {
      "image/png": "[encoded data removed]",
      "text/plain": [
       "<Figure size 800x400 with 1 Axes>"
      ]
     },
     "metadata": {},
     "output_type": "display_data"
    }
   ],
   "source": [
    "correctness = np.array(correctness)\n",
    "sns.histplot(data=correctness, bins=10, color='red', kde=True)\n",
    "\n",
    "power = np.array(power)\n",
    "\n",
    "print(f' power: {(power[power < 0.05].shape[0] / power.shape[0]) * 100}% , correctness: {(1 - (correctness[correctness < 0.05].shape[0] / correctness.shape[0])) * 100}%')"
   ]
  },
  {
   "cell_type": "markdown",
   "metadata": {},
   "source": [
    "С бакетированием:"
   ]
  },
  {
   "cell_type": "code",
   "execution_count": 109,
   "metadata": {},
   "outputs": [
    {
     "name": "stderr",
     "output_type": "stream",
     "text": [
      "100%|██████████| 100/100 [00:03<00:00, 25.73it/s]\n"
     ]
    }
   ],
   "source": [
    "correctness = []\n",
    "power = []\n",
    "\n",
    "for _ in tqdm(range(100)):\n",
    "    new_group = groups_splitter(data_bucket_means.copy(), columns=['user_id', 'group'], user_salt=generate_salt())\n",
    "    new_df = pd.merge(data_bucket_means, new_group, how=\"left\", on=['user_id']).drop_duplicates()\n",
    "\n",
    "    vec_a = new_df.loc[new_df['group'] == 'A', 'metric']\n",
    "    vec_b = new_df.loc[new_df['group'] == 'B', 'metric']\n",
    "\n",
    "    vec_b_effect = vec_b * 1.03\n",
    "\n",
    "    p_cor = stats.ttest_ind(vec_a, vec_b)[1]\n",
    "    p_power = stats.ttest_ind(vec_a, vec_b_effect)[1]\n",
    "\n",
    "    correctness.append(p_cor)\n",
    "    power.append(p_power)"
   ]
  },
  {
   "cell_type": "code",
   "execution_count": 111,
   "metadata": {},
   "outputs": [
    {
     "name": "stdout",
     "output_type": "stream",
     "text": [
      " power: 22.0% , correctness: 96.0%\n"
     ]
    },
    {
     "data": {
      "image/png": "[encoded data removed]",
      "text/plain": [
       "<Figure size 800x400 with 1 Axes>"
      ]
     },
     "metadata": {},
     "output_type": "display_data"
    }
   ],
   "source": [
    "correctness = np.array(correctness)\n",
    "sns.histplot(data=correctness, bins=10, color='blue', kde=True)\n",
    "\n",
    "power = np.array(power)\n",
    "\n",
    "print(f' power: {(power[power < 0.05].shape[0] / power.shape[0]) * 100}% , correctness: {(1 - (correctness[correctness < 0.05].shape[0] / correctness.shape[0])) * 100}%')"
   ]
  },
  {
   "cell_type": "markdown",
   "metadata": {},
   "source": [
    "Мощность значительно упала"
   ]
  },
  {
   "cell_type": "markdown",
   "metadata": {},
   "source": [
    "## Реализуем разбивку на бакеты на метрике cart_added_cnt"
   ]
  },
  {
   "cell_type": "code",
   "execution_count": 112,
   "metadata": {},
   "outputs": [],
   "source": [
    "def get_bucket(df, metric, bucket_size):\n",
    "    df_sorted = df.sort_values(by=metric).reset_index(drop=True)\n",
    "    bucket_size = len(df_sorted) // bucket_size\n",
    "    df_sorted['bucket'] = pd.qcut(df_sorted.index, q=bucket_size, labels=False, duplicates='drop')\n",
    "    df_bucketed = df_sorted.groupby('bucket', as_index=False)[metric].mean()\n",
    "    df_bucketed = df_bucketed.rename(columns={\"bucket\": \"user_id\"})\n",
    "    \n",
    "    return df_bucketed\n"
   ]
  },
  {
   "cell_type": "code",
   "execution_count": 114,
   "metadata": {},
   "outputs": [
    {
     "name": "stderr",
     "output_type": "stream",
     "text": [
      "  0%|          | 0/100 [00:00<?, ?it/s]"
     ]
    },
    {
     "name": "stderr",
     "output_type": "stream",
     "text": [
      "100%|██████████| 100/100 [01:07<00:00,  1.48it/s]\n"
     ]
    },
    {
     "name": "stdout",
     "output_type": "stream",
     "text": [
      "Мощность при bucket_size = 100: 33.00%\n",
      "Корректность при bucket_size = 100: 96.00% \n",
      "\n"
     ]
    },
    {
     "name": "stderr",
     "output_type": "stream",
     "text": [
      "100%|██████████| 100/100 [01:07<00:00,  1.49it/s]\n"
     ]
    },
    {
     "name": "stdout",
     "output_type": "stream",
     "text": [
      "Мощность при bucket_size = 1000: 37.00%\n",
      "Корректность при bucket_size = 1000: 95.00% \n",
      "\n"
     ]
    },
    {
     "name": "stderr",
     "output_type": "stream",
     "text": [
      "100%|██████████| 100/100 [01:06<00:00,  1.50it/s]"
     ]
    },
    {
     "name": "stdout",
     "output_type": "stream",
     "text": [
      "Мощность при bucket_size = 10000: 32.00%\n",
      "Корректность при bucket_size = 10000: 96.00% \n",
      "\n"
     ]
    },
    {
     "name": "stderr",
     "output_type": "stream",
     "text": [
      "\n"
     ]
    }
   ],
   "source": [
    "bucket_sizes = [100, 1000, 10000]\n",
    "correctness = [[] for _ in range(len(bucket_sizes))]\n",
    "powers = [[] for _ in range(len(bucket_sizes))]\n",
    "\n",
    "for idx, bucket_size in enumerate(bucket_sizes):\n",
    "    shop_bucket = get_bucket(shop.copy(), 'cart_added_cnt', bucket_size)\n",
    "\n",
    "    for _ in tqdm(range(100)):\n",
    "        new_group = groups_splitter(shop.copy(),  columns=['user_id', 'group'], user_salt=generate_salt())\n",
    "        new_df = pd.merge(shop, new_group, how=\"left\", on=['user_id']).drop_duplicates()\n",
    "\n",
    "        vec_a = new_df.loc[new_df['group'] == 'A', 'cart_added_cnt']\n",
    "        vec_b = new_df.loc[new_df['group'] == 'B', 'cart_added_cnt']\n",
    "        vec_b_effect = vec_b * 1.03\n",
    "\n",
    "        p_cor = stats.ttest_ind(vec_a, vec_b)[1]\n",
    "        p_power = stats.ttest_ind(vec_a, vec_b_effect)[1]\n",
    "\n",
    "        correctness[idx].append(p_cor)\n",
    "        powers[idx].append(p_power)\n",
    "\n",
    "    correctness[idx] = np.array(correctness[idx])\n",
    "    powers[idx] = np.array(powers[idx])\n",
    "\n",
    "    check_uniform(correctness[idx])\n",
    "\n",
    "    power_significance = (powers[idx] < 0.05).mean() * 100\n",
    "    correctness_significance = (correctness[idx] < 0.05).mean() * 100\n",
    "\n",
    "    print(f'Мощность при bucket_size = {bucket_size}: {power_significance:.2f}%')\n",
    "    print(f'Корректность при bucket_size = {bucket_size}: {(1 - correctness_significance / 100) * 100:.2f}% \\n')\n"
   ]
  },
  {
   "cell_type": "markdown",
   "metadata": {},
   "source": [
    "Из результатов эксперимента видно, что при увеличении размера бакетов (bucket_size) мощность (power) увеличивается, но не значительно. С другой стороны, корректность (correctness) остается примерно на том же уровне при различных значениях bucket_size.\n",
    "\n",
    "Это может означать, что разбиение на более крупные бакеты может увеличить мощность теста, но это может сопровождаться уменьшением точности в определении различий между группами, что отражается на корректности теста."
   ]
  },
  {
   "cell_type": "markdown",
   "metadata": {},
   "source": [
    "## Реализовать постстратификацию на данных shop_metrics_old для метрики cart_added_cnt:\n",
    "\n",
    "на сочетании пола и возраста (возраст разбить на подгруппы: 18-24, 25-45, 46-60, 61-75, 76+) подсчитать результаты для случая без постстратификации и с постстратификацией\n",
    "проверить мощность и корректность t-критерия для постстратифицированного случая (2 балла)"
   ]
  },
  {
   "cell_type": "code",
   "execution_count": 115,
   "metadata": {},
   "outputs": [],
   "source": [
    "shop_w_features = pd.merge(shop_metrics_old, shop_users_info, on=['user_id'], how='left')"
   ]
  },
  {
   "cell_type": "code",
   "execution_count": 116,
   "metadata": {},
   "outputs": [],
   "source": [
    "def age_group(age):\n",
    "    # Simplifying condition checks using chained comparisons\n",
    "    if 18 <= age <= 24:\n",
    "        return '18-24'\n",
    "    elif 25 <= age <= 45:\n",
    "        return '25-45'\n",
    "    elif 46 <= age <= 60:\n",
    "        return '46-60'\n",
    "    elif 61 <= age <= 75:\n",
    "        return '61-75'\n",
    "    else:\n",
    "        return '76+'"
   ]
  },
  {
   "cell_type": "code",
   "execution_count": 118,
   "metadata": {},
   "outputs": [
    {
     "name": "stdout",
     "output_type": "stream",
     "text": [
      "Эффект: 1.12%\n",
      "Статистика t: -2.71\n",
      "P-значение: 0.0067\n",
      "Степени свободы: 406861\n"
     ]
    }
   ],
   "source": [
    "def get_mean_std_n(df):\n",
    "    df['age_group'] = df['user_age'].apply(age_group)\n",
    "    df['strats'] = df['user_sex'] + '_' + df['age_group']\n",
    "    N = df['user_id'].nunique()\n",
    "    strats_weights = df['strats'].value_counts() / N\n",
    "\n",
    "    mean_a, mean_b = 0, 0\n",
    "    var_a, var_b = 0, 0\n",
    "\n",
    "    for strata in df['strats'].unique():\n",
    "        mask_a = (df['group'] == 'A') & (df['strats'] == strata)\n",
    "        mask_b = (df['group'] == 'B') & (df['strats'] == strata)\n",
    "        \n",
    "        mean_a += df[mask_a]['cart_added_cnt'].mean() * strats_weights[strata]\n",
    "        mean_b += df[mask_b]['cart_added_cnt'].mean() * strats_weights[strata]\n",
    "        var_a += df[mask_a]['cart_added_cnt'].var() * strats_weights[strata]\n",
    "        var_b += df[mask_b]['cart_added_cnt'].var() * strats_weights[strata]\n",
    "\n",
    "    std_a = (var_a**0.5)\n",
    "    std_b = (var_b**0.5)\n",
    "\n",
    "    n_a = len(df[df.group == 'A'])\n",
    "    n_b = len(df[df.group == 'B'])\n",
    "\n",
    "    return mean_a, mean_b, std_a, std_b, n_a, n_b\n",
    "\n",
    "mean_a, mean_b, std_a, std_b, n_a, n_b = get_mean_std_n(shop_w_features)\n",
    "\n",
    "effect_percent = ((mean_b - mean_a) / mean_a) * 100\n",
    "t_stat, p_value = stats.ttest_ind_from_stats(mean_a, std_a, n_a, mean_b * 1.03, std_b, n_b)\n",
    "\n",
    "print(f'Эффект: {effect_percent:.2f}%')\n",
    "print(f'Статистика t: {t_stat:.2f}')\n",
    "print(f'P-значение: {p_value:.4f}')\n",
    "print(f'Степени свободы: {n_a + n_b - 2}')\n"
   ]
  },
  {
   "cell_type": "markdown",
   "metadata": {},
   "source": [
    "**Эффект составляет 1.12%, что указывает на небольшое увеличение среднего значения метрики 'cart_added_cnt' в группе B по сравнению с группой A. Статистика t равна -2.71, а p-значение равно 0.0067, что говорит о статистической значимости различия между группами. Вместе с высокими степенями свободы (406861), это подтверждает статистическую значимость различия между группами.**"
   ]
  },
  {
   "cell_type": "code",
   "execution_count": null,
   "metadata": {},
   "outputs": [],
   "source": [
    "correctness = []\n",
    "power = []\n",
    "\n",
    "for i in tqdm(range(100)):\n",
    "    new_group = groups_splitter(shop_w_features.copy(), columns=['user_id', 'group'], user_salt=generate_salt())\n",
    "    new_df = pd.merge(shop_w_features.drop('group', axis=1), new_group, how=\"left\", on=['user_id']).drop_duplicates()\n",
    "\n",
    "    mean_a, mean_b, std_a, std_b, n_a, n_b = get_mean_std_n(new_df)\n",
    "\n",
    "    p_cor = stats.ttest_ind_from_stats(mean_a, std_a, n_a, mean_b, std_b, n_b)[1]\n",
    "\n",
    "    # Изменяем метрику в группе B\n",
    "    new_df.loc[new_df['group'] == 'B', 'cart_added_cnt'] *= 1.01\n",
    "\n",
    "    mean_a, mean_b, std_a, std_b, n_a, n_b = get_mean_std_n(new_df)\n",
    "\n",
    "    p_power = stats.ttest_ind_from_stats(mean_a, std_a, n_a, mean_b, std_b, n_b)[1]\n",
    "\n",
    "    correctness.append(p_cor)\n",
    "    power.append(p_power)"
   ]
  },
  {
   "cell_type": "code",
   "execution_count": 122,
   "metadata": {},
   "outputs": [
    {
     "name": "stdout",
     "output_type": "stream",
     "text": [
      "p_value = 0.9540 - p_values соответствует равномерному распределению\n",
      "power: 12.0% , correctness: 95.0%\n"
     ]
    },
    {
     "data": {
      "image/png": "[encoded data removed]",
      "text/plain": [
       "<Figure size 800x400 with 1 Axes>"
      ]
     },
     "metadata": {},
     "output_type": "display_data"
    }
   ],
   "source": [
    "correctness = np.array(correctness)\n",
    "sns.histplot(data=correctness, bins=10, color='brown', kde=True)\n",
    "\n",
    "power = np.array(power)\n",
    "print(check_uniform(correctness))\n",
    "print(f'power: {(power[power < 0.05].shape[0] / power.shape[0]) * 100}% , correctness: {(1 - (correctness[correctness < 0.05].shape[0] / correctness.shape[0])) * 100}%')"
   ]
  },
  {
   "cell_type": "code",
   "execution_count": null,
   "metadata": {},
   "outputs": [],
   "source": []
  }
 ],
 "metadata": {
  "kernelspec": {
   "display_name": "ab-test",
   "language": "python",
   "name": "python3"
  },
  "language_info": {
   "codemirror_mode": {
    "name": "ipython",
    "version": 3
   },
   "file_extension": ".py",
   "mimetype": "text/x-python",
   "name": "python",
   "nbconvert_exporter": "python",
   "pygments_lexer": "ipython3",
   "version": "3.12.2"
  }
 },
 "nbformat": 4,
 "nbformat_minor": 2
}
