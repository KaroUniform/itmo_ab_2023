{
 "cells": [
  {
   "cell_type": "markdown",
   "metadata": {},
   "source": [
    "# Домашняя работа 1 (Кравченко Анатолий):\n",
    "\n",
    "### Дизайн теста\n",
    "1. Из interactions взять данные за 2 последние недели (2021-08-09 по 2021-08-22)\n",
    "\n",
    "2. Посчитайте на этих данных корректность на бутстрепе и сравните ее с результатами за 1 неделю (посчитано на семинаре) (0.5 балла)\n",
    "\n",
    "3. На двух неделях посчитайте мощность. Для этого нужно в одну из групп докинуть эффект. Докиньте эффект в 1%, 3% и 5% и сравните полученную мощность (1.5 балла)\n",
    "\n",
    "4. Посчитайте MDE, который можно зафиксировать на 2х неделях. В качестве alpha и beta подставьте ваши вычисленные ошибки 1 и 2 рода. Учитывайте что у нас формула для MDE работает для t-test или z-test (1 балл)\n",
    "\n",
    "### A/B тест\n",
    "1. Представим что у нас прошел тест, используем те же самые данные за 2 недели\n",
    "\n",
    "2. Занулите для всех пользователей total_dur, у которых total_dur < 500. Их НЕ УБИРАЕМ, а просто обрабатываем эти значения, принимая за нулевые, но пользователей также учитываем в эксперименте (0.5 балла)\n",
    "\n",
    "3. Разбейте их самостоятельно на две равные группы, используйте функцию groups_splitter и соль = 'kiontestmodel20210805' (0.5 балла)\n",
    "\n",
    "4. Оказалось, что модель в группе В показала себя лучше, чем в группе А на 2.5%, причем эффект распространился неравномерно и преимущественно на 10% самых смотрящих пользователей, докиньте такой эффект самостоятельно. Нужно метрику total_dur увеличить на 2.5% для 10% пользователей с самым продолжительным смотрением. (1 балл)\n",
    "\n",
    "5. Посчитайте результат такого теста и сделайте выводы (2 балла)\n",
    "\n",
    "Еще 1 балл можно получить за хорошее и подробное объяснение каждого шага"
   ]
  },
  {
   "cell_type": "markdown",
   "metadata": {},
   "source": [
    "# Подготовка"
   ]
  },
  {
   "cell_type": "markdown",
   "metadata": {},
   "source": [
    "## Необходимые импорты"
   ]
  },
  {
   "cell_type": "code",
   "execution_count": 1,
   "metadata": {},
   "outputs": [],
   "source": [
    "import numpy as np\n",
    "import scipy\n",
    "import matplotlib.pyplot as plt\n",
    "import scipy.stats as stats\n",
    "import statsmodels\n",
    "import statsmodels.sandbox.stats.multicomp\n",
    "import pandas as pd\n",
    "import datetime\n",
    "from statsmodels.stats.weightstats import ztest\n",
    "\n",
    "import matplotlib.pyplot as plt\n",
    "import seaborn as sns\n",
    "\n",
    "from tqdm import tqdm\n",
    "from sklearn.utils import shuffle\n",
    "import hashlib\n",
    "from base64 import b64encode\n",
    "import collections\n",
    "import requests\n",
    "import zipfile\n",
    "\n",
    "import os"
   ]
  },
  {
   "cell_type": "markdown",
   "metadata": {},
   "source": [
    "## Загрузка датасета"
   ]
  },
  {
   "cell_type": "code",
   "execution_count": 2,
   "metadata": {},
   "outputs": [
    {
     "name": "stderr",
     "output_type": "stream",
     "text": [
      "kion dataset download:  98%|█████████▊| 77.6M/78.8M [00:01<00:00, 70.8MiB/s]"
     ]
    }
   ],
   "source": [
    "url = \"https://github.com/sharthZ23/your-second-recsys/raw/master/data_kion.zip\"\n",
    "\n",
    "req = requests.get(url, stream=True)\n",
    "\n",
    "with open('data_kion.zip', \"wb\") as fd:\n",
    "    total_size_in_bytes = int(req.headers.get('Content-Length', 0))\n",
    "    progress_bar = tqdm(desc='kion dataset download', total=total_size_in_bytes, unit='iB', unit_scale=True)\n",
    "    for chunk in req.iter_content(chunk_size=2 ** 20):\n",
    "        progress_bar.update(len(chunk))\n",
    "        fd.write(chunk)"
   ]
  },
  {
   "cell_type": "markdown",
   "metadata": {},
   "source": [
    "## Распаковка архива"
   ]
  },
  {
   "cell_type": "code",
   "execution_count": 3,
   "metadata": {},
   "outputs": [],
   "source": [
    "with zipfile.ZipFile('data_kion.zip', 'r') as zip_ref:\n",
    "    zip_ref.extractall()"
   ]
  },
  {
   "cell_type": "markdown",
   "metadata": {},
   "source": [
    "## Чтение данных"
   ]
  },
  {
   "cell_type": "code",
   "execution_count": 4,
   "metadata": {},
   "outputs": [],
   "source": [
    "interactions = pd.read_csv('data_kion/interactions_df.csv')\n",
    "users = pd.read_csv('data_kion/users.csv')\n",
    "items = pd.read_csv('data_kion/items.csv')"
   ]
  },
  {
   "cell_type": "code",
   "execution_count": 5,
   "metadata": {},
   "outputs": [
    {
     "data": {
      "text/html": [
       "<div>\n",
       "<style scoped>\n",
       "    .dataframe tbody tr th:only-of-type {\n",
       "        vertical-align: middle;\n",
       "    }\n",
       "\n",
       "    .dataframe tbody tr th {\n",
       "        vertical-align: top;\n",
       "    }\n",
       "\n",
       "    .dataframe thead th {\n",
       "        text-align: right;\n",
       "    }\n",
       "</style>\n",
       "<table border=\"1\" class=\"dataframe\">\n",
       "  <thead>\n",
       "    <tr style=\"text-align: right;\">\n",
       "      <th></th>\n",
       "      <th>user_id</th>\n",
       "      <th>item_id</th>\n",
       "      <th>last_watch_dt</th>\n",
       "      <th>total_dur</th>\n",
       "      <th>watched_pct</th>\n",
       "    </tr>\n",
       "  </thead>\n",
       "  <tbody>\n",
       "    <tr>\n",
       "      <th>0</th>\n",
       "      <td>176549</td>\n",
       "      <td>9506</td>\n",
       "      <td>2021-05-11</td>\n",
       "      <td>4250</td>\n",
       "      <td>72.0</td>\n",
       "    </tr>\n",
       "    <tr>\n",
       "      <th>1</th>\n",
       "      <td>699317</td>\n",
       "      <td>1659</td>\n",
       "      <td>2021-05-29</td>\n",
       "      <td>8317</td>\n",
       "      <td>100.0</td>\n",
       "    </tr>\n",
       "    <tr>\n",
       "      <th>2</th>\n",
       "      <td>656683</td>\n",
       "      <td>7107</td>\n",
       "      <td>2021-05-09</td>\n",
       "      <td>10</td>\n",
       "      <td>0.0</td>\n",
       "    </tr>\n",
       "    <tr>\n",
       "      <th>3</th>\n",
       "      <td>864613</td>\n",
       "      <td>7638</td>\n",
       "      <td>2021-07-05</td>\n",
       "      <td>14483</td>\n",
       "      <td>100.0</td>\n",
       "    </tr>\n",
       "    <tr>\n",
       "      <th>4</th>\n",
       "      <td>964868</td>\n",
       "      <td>9506</td>\n",
       "      <td>2021-04-30</td>\n",
       "      <td>6725</td>\n",
       "      <td>100.0</td>\n",
       "    </tr>\n",
       "    <tr>\n",
       "      <th>...</th>\n",
       "      <td>...</td>\n",
       "      <td>...</td>\n",
       "      <td>...</td>\n",
       "      <td>...</td>\n",
       "      <td>...</td>\n",
       "    </tr>\n",
       "    <tr>\n",
       "      <th>5476246</th>\n",
       "      <td>648596</td>\n",
       "      <td>12225</td>\n",
       "      <td>2021-08-13</td>\n",
       "      <td>76</td>\n",
       "      <td>0.0</td>\n",
       "    </tr>\n",
       "    <tr>\n",
       "      <th>5476247</th>\n",
       "      <td>546862</td>\n",
       "      <td>9673</td>\n",
       "      <td>2021-04-13</td>\n",
       "      <td>2308</td>\n",
       "      <td>49.0</td>\n",
       "    </tr>\n",
       "    <tr>\n",
       "      <th>5476248</th>\n",
       "      <td>697262</td>\n",
       "      <td>15297</td>\n",
       "      <td>2021-08-20</td>\n",
       "      <td>18307</td>\n",
       "      <td>63.0</td>\n",
       "    </tr>\n",
       "    <tr>\n",
       "      <th>5476249</th>\n",
       "      <td>384202</td>\n",
       "      <td>16197</td>\n",
       "      <td>2021-04-19</td>\n",
       "      <td>6203</td>\n",
       "      <td>100.0</td>\n",
       "    </tr>\n",
       "    <tr>\n",
       "      <th>5476250</th>\n",
       "      <td>319709</td>\n",
       "      <td>4436</td>\n",
       "      <td>2021-08-15</td>\n",
       "      <td>3921</td>\n",
       "      <td>45.0</td>\n",
       "    </tr>\n",
       "  </tbody>\n",
       "</table>\n",
       "<p>5476251 rows × 5 columns</p>\n",
       "</div>"
      ],
      "text/plain": [
       "         user_id  item_id last_watch_dt  total_dur  watched_pct\n",
       "0         176549     9506    2021-05-11       4250         72.0\n",
       "1         699317     1659    2021-05-29       8317        100.0\n",
       "2         656683     7107    2021-05-09         10          0.0\n",
       "3         864613     7638    2021-07-05      14483        100.0\n",
       "4         964868     9506    2021-04-30       6725        100.0\n",
       "...          ...      ...           ...        ...          ...\n",
       "5476246   648596    12225    2021-08-13         76          0.0\n",
       "5476247   546862     9673    2021-04-13       2308         49.0\n",
       "5476248   697262    15297    2021-08-20      18307         63.0\n",
       "5476249   384202    16197    2021-04-19       6203        100.0\n",
       "5476250   319709     4436    2021-08-15       3921         45.0\n",
       "\n",
       "[5476251 rows x 5 columns]"
      ]
     },
     "execution_count": 5,
     "metadata": {},
     "output_type": "execute_result"
    }
   ],
   "source": [
    "interactions\n",
    "\n",
    "# user_id - уникальный идентификатор пользователя\n",
    "# item_id - уникальный идентификатор контента\n",
    "# last_watch_dt - последняя дата просмотра юзером определенного контента\n",
    "# total_dur - суммарная продолжительность просмотра определенного контента юзером (в секундах)\n",
    "# watched_pct - процент просмотренного контента от общей продолжительности"
   ]
  },
  {
   "cell_type": "code",
   "execution_count": 6,
   "metadata": {},
   "outputs": [],
   "source": [
    "interactions['last_watch_dt'] = pd.to_datetime(interactions['last_watch_dt'])\n",
    "interactions['user_id'] = interactions['user_id'].astype(str)"
   ]
  },
  {
   "cell_type": "markdown",
   "metadata": {},
   "source": [
    "# Дизайн теста"
   ]
  },
  {
   "cell_type": "markdown",
   "metadata": {},
   "source": [
    "\n",
    "## 1. Из interactions взять данные за 2 последние недели (2021-08-09 по 2021-08-22)"
   ]
  },
  {
   "cell_type": "code",
   "execution_count": 7,
   "metadata": {},
   "outputs": [],
   "source": [
    "week2 = interactions[(interactions['last_watch_dt'] >= '2021-08-09') & (interactions['last_watch_dt'] <= '2021-08-22')]"
   ]
  },
  {
   "cell_type": "code",
   "execution_count": 8,
   "metadata": {},
   "outputs": [
    {
     "name": "stdout",
     "output_type": "stream",
     "text": [
      "Самая ранняя дата: 2021-08-09 00:00:00 \n",
      "Самая поздняя дата:  2021-08-22 00:00:00\n"
     ]
    }
   ],
   "source": [
    "print(\"Самая ранняя дата:\", week2['last_watch_dt'].min(), \"\\nСамая поздняя дата: \", week2['last_watch_dt'].max())"
   ]
  },
  {
   "cell_type": "markdown",
   "metadata": {},
   "source": [
    "### 2. Посчитаем на этих данных корректность на бутстрепе и сравним ее с результатами за 1 неделю (посчитано на семинаре)"
   ]
  },
  {
   "cell_type": "markdown",
   "metadata": {},
   "source": [
    "### У нас есть выбросы, так что удалим их"
   ]
  },
  {
   "cell_type": "code",
   "execution_count": 9,
   "metadata": {},
   "outputs": [
    {
     "data": {
      "text/plain": [
       "<Axes: >"
      ]
     },
     "execution_count": 9,
     "metadata": {},
     "output_type": "execute_result"
    },
    {
     "data": {
      "image/png": "[encoded data removed]",
      "text/plain": [
       "<Figure size 640x480 with 1 Axes>"
      ]
     },
     "metadata": {},
     "output_type": "display_data"
    }
   ],
   "source": [
    "sns.boxplot(week2['total_dur'].values, fliersize=6)"
   ]
  },
  {
   "cell_type": "code",
   "execution_count": 10,
   "metadata": {},
   "outputs": [],
   "source": [
    "def process_data(data: pd.DataFrame):\n",
    "    # Группировка данных по 'user_id' и суммирование 'total_dur'\n",
    "    grouped_data = data.groupby('user_id', as_index=False).agg({'total_dur': 'sum'})\n",
    "    \n",
    "    # Фильтрация данных, оставляя только те записи, где 'total_dur' находится в пределах трех стандартных отклонений от среднего\n",
    "    filtered_data = grouped_data[grouped_data['total_dur'] < grouped_data['total_dur'].std() * 3]\n",
    "    \n",
    "    return filtered_data"
   ]
  },
  {
   "cell_type": "code",
   "execution_count": 11,
   "metadata": {},
   "outputs": [],
   "source": [
    "result = process_data(week2)"
   ]
  },
  {
   "cell_type": "code",
   "execution_count": 12,
   "metadata": {},
   "outputs": [
    {
     "data": {
      "text/html": [
       "<div>\n",
       "<style scoped>\n",
       "    .dataframe tbody tr th:only-of-type {\n",
       "        vertical-align: middle;\n",
       "    }\n",
       "\n",
       "    .dataframe tbody tr th {\n",
       "        vertical-align: top;\n",
       "    }\n",
       "\n",
       "    .dataframe thead th {\n",
       "        text-align: right;\n",
       "    }\n",
       "</style>\n",
       "<table border=\"1\" class=\"dataframe\">\n",
       "  <thead>\n",
       "    <tr style=\"text-align: right;\">\n",
       "      <th></th>\n",
       "      <th>user_id</th>\n",
       "      <th>total_dur</th>\n",
       "    </tr>\n",
       "  </thead>\n",
       "  <tbody>\n",
       "    <tr>\n",
       "      <th>0</th>\n",
       "      <td>1</td>\n",
       "      <td>21172</td>\n",
       "    </tr>\n",
       "    <tr>\n",
       "      <th>1</th>\n",
       "      <td>1000</td>\n",
       "      <td>10744</td>\n",
       "    </tr>\n",
       "    <tr>\n",
       "      <th>2</th>\n",
       "      <td>1000000</td>\n",
       "      <td>32990</td>\n",
       "    </tr>\n",
       "    <tr>\n",
       "      <th>3</th>\n",
       "      <td>1000001</td>\n",
       "      <td>52</td>\n",
       "    </tr>\n",
       "    <tr>\n",
       "      <th>4</th>\n",
       "      <td>1000003</td>\n",
       "      <td>625</td>\n",
       "    </tr>\n",
       "    <tr>\n",
       "      <th>...</th>\n",
       "      <td>...</td>\n",
       "      <td>...</td>\n",
       "    </tr>\n",
       "    <tr>\n",
       "      <th>266076</th>\n",
       "      <td>999978</td>\n",
       "      <td>11172</td>\n",
       "    </tr>\n",
       "    <tr>\n",
       "      <th>266077</th>\n",
       "      <td>999987</td>\n",
       "      <td>27888</td>\n",
       "    </tr>\n",
       "    <tr>\n",
       "      <th>266078</th>\n",
       "      <td>999989</td>\n",
       "      <td>4563</td>\n",
       "    </tr>\n",
       "    <tr>\n",
       "      <th>266079</th>\n",
       "      <td>999990</td>\n",
       "      <td>997</td>\n",
       "    </tr>\n",
       "    <tr>\n",
       "      <th>266080</th>\n",
       "      <td>999993</td>\n",
       "      <td>17228</td>\n",
       "    </tr>\n",
       "  </tbody>\n",
       "</table>\n",
       "<p>262794 rows × 2 columns</p>\n",
       "</div>"
      ],
      "text/plain": [
       "        user_id  total_dur\n",
       "0             1      21172\n",
       "1          1000      10744\n",
       "2       1000000      32990\n",
       "3       1000001         52\n",
       "4       1000003        625\n",
       "...         ...        ...\n",
       "266076   999978      11172\n",
       "266077   999987      27888\n",
       "266078   999989       4563\n",
       "266079   999990        997\n",
       "266080   999993      17228\n",
       "\n",
       "[262794 rows x 2 columns]"
      ]
     },
     "execution_count": 12,
     "metadata": {},
     "output_type": "execute_result"
    }
   ],
   "source": [
    "result"
   ]
  },
  {
   "cell_type": "code",
   "execution_count": 13,
   "metadata": {},
   "outputs": [
    {
     "data": {
      "image/png": "[encoded data removed]",
      "text/plain": [
       "<Figure size 700x700 with 1 Axes>"
      ]
     },
     "metadata": {},
     "output_type": "display_data"
    }
   ],
   "source": [
    "result['total_dur'].hist(bins=100, figsize=(7,7))\n",
    "plt.ylim([0, 10000])\n",
    "plt.grid(False)"
   ]
  },
  {
   "cell_type": "code",
   "execution_count": 14,
   "metadata": {},
   "outputs": [],
   "source": [
    "def generate_salt():\n",
    "    \"\"\"\n",
    "    Генерирует случайную соль и кодирует ее в base64.\n",
    "\n",
    "    Returns:\n",
    "    str: Сгенерированная соль в виде строки.\n",
    "    \"\"\"\n",
    "    salt = os.urandom(8)\n",
    "    return b64encode(salt).decode('ascii')\n",
    "\n",
    "def get_bootstrap_sample(arr):\n",
    "    \"\"\"\n",
    "    Создает случайные выборки с возвратом из массива.\n",
    "\n",
    "    Args:\n",
    "    arr (numpy.ndarray): Входной массив.\n",
    "\n",
    "    Returns:\n",
    "    numpy.ndarray: Массив случайных выборок.\n",
    "    \"\"\"\n",
    "    return np.random.choice(arr, replace=True, size=len(arr))\n",
    "\n",
    "def calculate_bootstrap_means(arr, size=1000):\n",
    "    \"\"\"\n",
    "    Вычисляет средние значения для бутстрэп-выборок из массива.\n",
    "\n",
    "    Args:\n",
    "    arr (numpy.ndarray): Входной массив.\n",
    "    size (int, optional): Количество итераций бутстрэпа. По умолчанию 1000.\n",
    "\n",
    "    Returns:\n",
    "    numpy.ndarray: Массив средних значений для каждой итерации бутстрэпа.\n",
    "    \"\"\"\n",
    "    result = np.empty(size)\n",
    "    for i in range(size):\n",
    "        result[i] = np.mean(get_bootstrap_sample(arr))\n",
    "    return result"
   ]
  },
  {
   "cell_type": "code",
   "execution_count": 15,
   "metadata": {},
   "outputs": [],
   "source": [
    "\n",
    "\n",
    "def groups_splitter(df: pd.DataFrame, columns: list, user_salt=None):\n",
    "    \"\"\"\n",
    "    Разделяет группы пользователей на основе хэша, созданного из 'user_id' и соли.\n",
    "\n",
    "    Args:\n",
    "    df (pandas.DataFrame): Входной DataFrame с информацией о пользователях.\n",
    "    columns (list): Список столбцов, которые нужно вернуть в итоговом DataFrame.\n",
    "    user_salt (str, optional): Соль пользователя для создания хэша. Если не указана, генерируется случайная соль.\n",
    "\n",
    "    Returns:\n",
    "    pandas.DataFrame: DataFrame с уникальными пользователями и указанными столбцами.\n",
    "    \"\"\"\n",
    "    salt = user_salt or generate_salt()\n",
    "    \n",
    "\n",
    "    df['hash'] = ((df['user_id'].astype(str)) + '#' + salt).apply(lambda x: hashlib.sha256(x.encode('utf-8')).hexdigest())\n",
    "    df['group'] = ((df['hash'].str.slice(start=-6).apply(int, base=16) % 2).map(lambda x: 'A' if x == 0 else 'B'))\n",
    "\n",
    "    return df[columns].drop_duplicates()\n",
    "\n",
    "\n",
    "def calc_bootstrap_mean(arr, size=1000):\n",
    "    \"\"\"\n",
    "    Вычисляет среднее значение для бутстрэп-выборок из массива.\n",
    "\n",
    "    Args:\n",
    "    arr (numpy.ndarray): Входной массив.\n",
    "    size (int, optional): Количество итераций бутстрэпа. По умолчанию 1000.\n",
    "\n",
    "    Returns:\n",
    "    numpy.ndarray: Массив средних значений для каждой итерации бутстрэпа.\n",
    "    \"\"\"\n",
    "    indices = np.random.randint(0, len(arr), (size, len(arr)))\n",
    "    bootstrap_samples = arr[indices]\n",
    "    result = np.mean(bootstrap_samples, axis=1)\n",
    "    return result\n",
    "\n",
    "def get_p_value(dist):\n",
    "    \"\"\"\n",
    "    Вычисляет p-value для распределения.\n",
    "\n",
    "    Args:\n",
    "    dist (numpy.ndarray): Распределение для вычисления p-value.\n",
    "\n",
    "    Returns:\n",
    "    float: Значение p-value.\n",
    "    \"\"\"\n",
    "    dist = np.array(dist)\n",
    "    x = (dist > 0).mean()\n",
    "    pvalue = min(x, 1 - x) * 2\n",
    "    return pvalue\n"
   ]
  },
  {
   "cell_type": "code",
   "execution_count": 38,
   "metadata": {},
   "outputs": [
    {
     "name": "stdout",
     "output_type": "stream",
     "text": [
      "significance: 7.5%\n"
     ]
    }
   ],
   "source": [
    "# Параметры\n",
    "num_iterations = 1000\n",
    "bootstrap_size = 1000\n",
    "\n",
    "# Инициализация списков для результатов\n",
    "correctness = []\n",
    "values = []\n",
    "\n",
    "for _ in range(num_iterations):\n",
    "    # Создание нового DataFrame с разделением групп\n",
    "    new_df = groups_splitter(week2.copy(), columns=['user_id', 'total_dur', 'group'], user_salt=generate_salt()).drop_duplicates()\n",
    "\n",
    "    # Выделение данных для групп A и B\n",
    "    vec_a = new_df[(new_df['group'] == 'A')]['total_dur']\n",
    "    vec_b = new_df[(new_df['group'] == 'B')]['total_dur']\n",
    "\n",
    "    # Бутстрап для групп A и B\n",
    "    sample_a_mean = calc_bootstrap_mean(vec_a.values, size=bootstrap_size)\n",
    "    sample_b_mean = calc_bootstrap_mean(vec_b.values, size=bootstrap_size)\n",
    "\n",
    "    # Вычисление разницы между средними значениями\n",
    "    values.append(sample_a_mean - sample_b_mean)\n",
    "\n",
    "    # Рассчет 95% доверительного интервала для разницы средних\n",
    "    left_side, right_side = np.percentile(sample_a_mean - sample_b_mean, [100 * 0.05 / 2., 100 * (1 - 0.05 / 2.)])\n",
    "\n",
    "    # Запись результатов теста\n",
    "    correctness.append(not left_side <= 0 <= right_side)\n",
    "\n",
    "# Вычисление значимости\n",
    "test_correctness = collections.Counter(correctness)\n",
    "significance = test_correctness[1] / (test_correctness[1] + test_correctness[0]) * 100 if (test_correctness[1] + test_correctness[0]) != 0 else \"Невозможно вычислить\"\n",
    "\n",
    "# Вывод результатов\n",
    "print(f'significance: {significance}%')"
   ]
  },
  {
   "cell_type": "markdown",
   "metadata": {},
   "source": [
    "Таким образом можно утверждать, что есть статистически значимая разница между группами A и B с вероятностью 7.5% за две недели и 5% за одну неделю. **Изменения в данных не могут быть объяснены случайностью, и различия между группами считаются статистически значимыми.**\n"
   ]
  },
  {
   "cell_type": "markdown",
   "metadata": {},
   "source": [
    "### Проверю на равномерность с помощью критерия Колмогорова-Смирнова"
   ]
  },
  {
   "cell_type": "code",
   "execution_count": 46,
   "metadata": {},
   "outputs": [],
   "source": [
    "p_values = [get_p_value(dist) for dist in values]"
   ]
  },
  {
   "cell_type": "code",
   "execution_count": 48,
   "metadata": {},
   "outputs": [
    {
     "name": "stdout",
     "output_type": "stream",
     "text": [
      "p_value = 0.18017405204974213 - p_values равномерное распределение\n"
     ]
    }
   ],
   "source": [
    "stat, p_value = scipy.stats.kstest(p_values, scipy.stats.uniform(loc=0.0, scale=1.0).cdf)\n",
    "\n",
    "if p_value < 0.05:\n",
    "    print(f'p_value = {p_value} - p_values неравномерное распределение')\n",
    "else:\n",
    "    print(f'p_value = {p_value} - p_values равномерное распределение')"
   ]
  },
  {
   "cell_type": "markdown",
   "metadata": {},
   "source": [
    "### 3. На двух неделях посчитаем мощность. Для этого в одну из групп докинем эффект. Докинем эффект в 1%, 3% и 5% и сравним полученную мощность\n"
   ]
  },
  {
   "cell_type": "code",
   "execution_count": 42,
   "metadata": {},
   "outputs": [
    {
     "name": "stdout",
     "output_type": "stream",
     "text": [
      "Мощность при эффекте в 1%: 15.7%\n",
      "Мощность при эффекте в 3%: 68.60000000000001%\n",
      "Мощность при эффекте в 5%: 97.6%\n"
     ]
    }
   ],
   "source": [
    "# Параметры\n",
    "effects = [0.01, 0.03, 0.05]\n",
    "num_iterations = 1000\n",
    "bootstrap_size = 1000\n",
    "\n",
    "# Инициализация списков для результатов\n",
    "correctness = [[] for _ in range(len(effects))]\n",
    "values = [[] for _ in range(len(effects))]\n",
    "\n",
    "# Основной цикл\n",
    "for _ in range(num_iterations):\n",
    "    # Создание нового DataFrame с разделением групп\n",
    "    new_df = groups_splitter(week2.copy(), columns=['user_id', 'total_dur', 'group'], user_salt=generate_salt()).drop_duplicates()\n",
    "\n",
    "    # Выделение данных для групп A и B\n",
    "    vec_a = new_df[(new_df['group'] == 'A')]['total_dur']\n",
    "    vec_b = new_df[(new_df['group'] == 'B')]['total_dur']\n",
    "\n",
    "    # Бутстрап для группы A\n",
    "    sample_a_mean = calc_bootstrap_mean(vec_a, size=bootstrap_size)\n",
    "\n",
    "    # Бутстрап для каждого значения эффекта в группе B\n",
    "    for idx, effect in enumerate(effects):\n",
    "        sample_b_mean = calc_bootstrap_mean(vec_b * effect, size=bootstrap_size)\n",
    "        values[idx].append(sample_a_mean - sample_b_mean)\n",
    "\n",
    "        # Рассчет интервала достоверности\n",
    "        left_side, right_side = np.percentile(sample_a_mean - sample_b_mean, [100 * 0.05 / 2., 100 * (1 - 0.05 / 2.)])\n",
    "\n",
    "        # Запись результатов теста\n",
    "        correctness[idx].append(not left_side <= 0 <= right_side)\n",
    "\n",
    "# Вывод результатов\n",
    "for idx, effect in enumerate(effects):\n",
    "    test_correctness = collections.Counter(correctness[idx])\n",
    "    power = test_correctness[1] / (test_correctness[1] + test_correctness[0]) * 100 if (test_correctness[1] + test_correctness[0]) != 0 else \"Невозможно вычислить\"\n",
    "    print(f'Мощность при эффекте в {round((effect - 1) * 100)}%: {power}%')\n"
   ]
  },
  {
   "cell_type": "code",
   "execution_count": 56,
   "metadata": {},
   "outputs": [
    {
     "data": {
      "text/html": [
       "<div>\n",
       "<style scoped>\n",
       "    .dataframe tbody tr th:only-of-type {\n",
       "        vertical-align: middle;\n",
       "    }\n",
       "\n",
       "    .dataframe tbody tr th {\n",
       "        vertical-align: top;\n",
       "    }\n",
       "\n",
       "    .dataframe thead th {\n",
       "        text-align: right;\n",
       "    }\n",
       "</style>\n",
       "<table border=\"1\" class=\"dataframe\">\n",
       "  <thead>\n",
       "    <tr style=\"text-align: right;\">\n",
       "      <th></th>\n",
       "      <th>effect_1.0%</th>\n",
       "      <th>effect_3.0%</th>\n",
       "      <th>effect_5.0%</th>\n",
       "    </tr>\n",
       "  </thead>\n",
       "  <tbody>\n",
       "    <tr>\n",
       "      <th>Мощность</th>\n",
       "      <td>0.157</td>\n",
       "      <td>0.686</td>\n",
       "      <td>0.976</td>\n",
       "    </tr>\n",
       "  </tbody>\n",
       "</table>\n",
       "</div>"
      ],
      "text/plain": [
       "          effect_1.0%  effect_3.0%  effect_5.0%\n",
       "Мощность        0.157        0.686        0.976"
      ]
     },
     "execution_count": 56,
     "metadata": {},
     "output_type": "execute_result"
    }
   ],
   "source": [
    "result_power = pd.DataFrame([[0.157, 0.686, 0.976]], index=[\"Мощность\"], columns=[\"effect_1.0%\", \"effect_3.0%\", \"effect_5.0%\"])\n",
    "powers = result_power.loc[\"Мощность\"].values\n",
    "result_power"
   ]
  },
  {
   "cell_type": "code",
   "execution_count": 59,
   "metadata": {},
   "outputs": [
    {
     "data": {
      "image/png": "[encoded data removed]",
      "text/plain": [
       "<Figure size 640x480 with 1 Axes>"
      ]
     },
     "metadata": {},
     "output_type": "display_data"
    }
   ],
   "source": [
    "plt.plot(\n",
    "    effects,\n",
    "    powers,\n",
    "    marker=\"o\"\n",
    ")\n",
    "plt.xlabel(\"effect\")\n",
    "plt.ylabel(\"power\")\n",
    "plt.grid()"
   ]
  },
  {
   "cell_type": "markdown",
   "metadata": {},
   "source": [
    "### 4. Посчитайте MDE, который можно зафиксировать на 2х неделях. В качестве alpha и beta подставьте ваши вычисленные ошибки 1 и 2 рода. Учитывайте что у нас формула для MDE работает для t-test или z-test"
   ]
  },
  {
   "cell_type": "code",
   "execution_count": 65,
   "metadata": {},
   "outputs": [],
   "source": [
    "def get_mde(metric_vec, alpha=0.05, beta=0.2):\n",
    "    \n",
    "    metric_mean, metric_std, metric_num = metric_vec.mean(), metric_vec.std(), len(metric_vec)\n",
    "    \n",
    "    z_alpha = stats.norm.ppf(1 - (alpha / 2), loc=0, scale=1)\n",
    "    z_beta = stats.norm.ppf(1 - beta, loc=0, scale=1)\n",
    "    \n",
    "    mde = (z_alpha + z_beta) * metric_std / np.sqrt(metric_num)\n",
    "    \n",
    "    return mde * 100 / metric_mean"
   ]
  },
  {
   "cell_type": "markdown",
   "metadata": {},
   "source": [
    "Используем бутстреп для расчета мощности, и поскольку бутстреп не обязательно предоставляет конкретные значения эффекта, проведем линейную аппроксимацию между двумя близкими значениями эффекта, которые использовались при расчете мощности, для получения оценки MDE при мощности 0.8."
   ]
  },
  {
   "cell_type": "code",
   "execution_count": 63,
   "metadata": {},
   "outputs": [
    {
     "name": "stdout",
     "output_type": "stream",
     "text": [
      "MDE = 2.1404%\n"
     ]
    }
   ],
   "source": [
    "k = (powers[2] - powers[0]) / (effects[2] - effects[0])\n",
    "b = powers[2] - effects[1] * k\n",
    "\n",
    "power_needed = 0.8\n",
    "mde = (power_needed - b) / k\n",
    "print(f\"MDE = {mde * 100:0.5}%\")"
   ]
  },
  {
   "cell_type": "markdown",
   "metadata": {},
   "source": [
    "## A/B тест"
   ]
  },
  {
   "cell_type": "markdown",
   "metadata": {},
   "source": [
    "1. Представим что у нас прошел тест, используем те же самые данные за 2 недели\n",
    "2. Занулите для всех пользователей total_dur, у которых total_dur < 500. Их НЕ УБИРАЕМ, а просто обрабатываем эти значения, принимая за нулевые, но пользователей также учитываем в эксперименте (0.5 балла)"
   ]
  },
  {
   "cell_type": "code",
   "execution_count": 67,
   "metadata": {},
   "outputs": [
    {
     "data": {
      "text/html": [
       "<div>\n",
       "<style scoped>\n",
       "    .dataframe tbody tr th:only-of-type {\n",
       "        vertical-align: middle;\n",
       "    }\n",
       "\n",
       "    .dataframe tbody tr th {\n",
       "        vertical-align: top;\n",
       "    }\n",
       "\n",
       "    .dataframe thead th {\n",
       "        text-align: right;\n",
       "    }\n",
       "</style>\n",
       "<table border=\"1\" class=\"dataframe\">\n",
       "  <thead>\n",
       "    <tr style=\"text-align: right;\">\n",
       "      <th></th>\n",
       "      <th>user_id</th>\n",
       "      <th>item_id</th>\n",
       "      <th>last_watch_dt</th>\n",
       "      <th>total_dur</th>\n",
       "      <th>watched_pct</th>\n",
       "    </tr>\n",
       "  </thead>\n",
       "  <tbody>\n",
       "    <tr>\n",
       "      <th>6</th>\n",
       "      <td>1016458</td>\n",
       "      <td>354</td>\n",
       "      <td>2021-08-14</td>\n",
       "      <td>1672</td>\n",
       "      <td>25.0</td>\n",
       "    </tr>\n",
       "    <tr>\n",
       "      <th>9</th>\n",
       "      <td>203219</td>\n",
       "      <td>13582</td>\n",
       "      <td>2021-08-22</td>\n",
       "      <td>6975</td>\n",
       "      <td>100.0</td>\n",
       "    </tr>\n",
       "    <tr>\n",
       "      <th>22</th>\n",
       "      <td>505244</td>\n",
       "      <td>15297</td>\n",
       "      <td>2021-08-15</td>\n",
       "      <td>15991</td>\n",
       "      <td>63.0</td>\n",
       "    </tr>\n",
       "    <tr>\n",
       "      <th>24</th>\n",
       "      <td>916352</td>\n",
       "      <td>12846</td>\n",
       "      <td>2021-08-12</td>\n",
       "      <td>1812</td>\n",
       "      <td>30.0</td>\n",
       "    </tr>\n",
       "    <tr>\n",
       "      <th>30</th>\n",
       "      <td>1057871</td>\n",
       "      <td>6208</td>\n",
       "      <td>2021-08-12</td>\n",
       "      <td>5033</td>\n",
       "      <td>95.0</td>\n",
       "    </tr>\n",
       "    <tr>\n",
       "      <th>5476215</th>\n",
       "      <td>204332</td>\n",
       "      <td>2081</td>\n",
       "      <td>2021-08-10</td>\n",
       "      <td>822</td>\n",
       "      <td>14.0</td>\n",
       "    </tr>\n",
       "    <tr>\n",
       "      <th>5476222</th>\n",
       "      <td>1007900</td>\n",
       "      <td>9728</td>\n",
       "      <td>2021-08-12</td>\n",
       "      <td>0</td>\n",
       "      <td>6.0</td>\n",
       "    </tr>\n",
       "    <tr>\n",
       "      <th>5476246</th>\n",
       "      <td>648596</td>\n",
       "      <td>12225</td>\n",
       "      <td>2021-08-13</td>\n",
       "      <td>0</td>\n",
       "      <td>0.0</td>\n",
       "    </tr>\n",
       "    <tr>\n",
       "      <th>5476248</th>\n",
       "      <td>697262</td>\n",
       "      <td>15297</td>\n",
       "      <td>2021-08-20</td>\n",
       "      <td>18307</td>\n",
       "      <td>63.0</td>\n",
       "    </tr>\n",
       "    <tr>\n",
       "      <th>5476250</th>\n",
       "      <td>319709</td>\n",
       "      <td>4436</td>\n",
       "      <td>2021-08-15</td>\n",
       "      <td>3921</td>\n",
       "      <td>45.0</td>\n",
       "    </tr>\n",
       "  </tbody>\n",
       "</table>\n",
       "</div>"
      ],
      "text/plain": [
       "         user_id  item_id last_watch_dt  total_dur  watched_pct\n",
       "6        1016458      354    2021-08-14       1672         25.0\n",
       "9         203219    13582    2021-08-22       6975        100.0\n",
       "22        505244    15297    2021-08-15      15991         63.0\n",
       "24        916352    12846    2021-08-12       1812         30.0\n",
       "30       1057871     6208    2021-08-12       5033         95.0\n",
       "5476215   204332     2081    2021-08-10        822         14.0\n",
       "5476222  1007900     9728    2021-08-12          0          6.0\n",
       "5476246   648596    12225    2021-08-13          0          0.0\n",
       "5476248   697262    15297    2021-08-20      18307         63.0\n",
       "5476250   319709     4436    2021-08-15       3921         45.0"
      ]
     },
     "execution_count": 67,
     "metadata": {},
     "output_type": "execute_result"
    }
   ],
   "source": [
    "week2_ab = week2.copy()\n",
    "week2_ab.loc[week2_ab[\"total_dur\"] < 500, \"total_dur\"] = 0\n",
    "pd.concat([week2_ab.head(), week2_ab.tail()])"
   ]
  },
  {
   "cell_type": "markdown",
   "metadata": {},
   "source": [
    "### Разобем пользователей на две равные группы, используйте функцию groups_splitter и соль = 'kiontestmodel20210805'"
   ]
  },
  {
   "cell_type": "code",
   "execution_count": 73,
   "metadata": {},
   "outputs": [
    {
     "data": {
      "text/html": [
       "<div>\n",
       "<style scoped>\n",
       "    .dataframe tbody tr th:only-of-type {\n",
       "        vertical-align: middle;\n",
       "    }\n",
       "\n",
       "    .dataframe tbody tr th {\n",
       "        vertical-align: top;\n",
       "    }\n",
       "\n",
       "    .dataframe thead th {\n",
       "        text-align: right;\n",
       "    }\n",
       "</style>\n",
       "<table border=\"1\" class=\"dataframe\">\n",
       "  <thead>\n",
       "    <tr style=\"text-align: right;\">\n",
       "      <th></th>\n",
       "      <th>user_id</th>\n",
       "      <th>total_dur</th>\n",
       "      <th>group</th>\n",
       "    </tr>\n",
       "  </thead>\n",
       "  <tbody>\n",
       "    <tr>\n",
       "      <th>6</th>\n",
       "      <td>1016458</td>\n",
       "      <td>1672</td>\n",
       "      <td>A</td>\n",
       "    </tr>\n",
       "    <tr>\n",
       "      <th>9</th>\n",
       "      <td>203219</td>\n",
       "      <td>6975</td>\n",
       "      <td>B</td>\n",
       "    </tr>\n",
       "    <tr>\n",
       "      <th>22</th>\n",
       "      <td>505244</td>\n",
       "      <td>15991</td>\n",
       "      <td>A</td>\n",
       "    </tr>\n",
       "    <tr>\n",
       "      <th>24</th>\n",
       "      <td>916352</td>\n",
       "      <td>1812</td>\n",
       "      <td>A</td>\n",
       "    </tr>\n",
       "    <tr>\n",
       "      <th>30</th>\n",
       "      <td>1057871</td>\n",
       "      <td>5033</td>\n",
       "      <td>A</td>\n",
       "    </tr>\n",
       "    <tr>\n",
       "      <th>5476215</th>\n",
       "      <td>204332</td>\n",
       "      <td>822</td>\n",
       "      <td>B</td>\n",
       "    </tr>\n",
       "    <tr>\n",
       "      <th>5476222</th>\n",
       "      <td>1007900</td>\n",
       "      <td>0</td>\n",
       "      <td>A</td>\n",
       "    </tr>\n",
       "    <tr>\n",
       "      <th>5476246</th>\n",
       "      <td>648596</td>\n",
       "      <td>0</td>\n",
       "      <td>B</td>\n",
       "    </tr>\n",
       "    <tr>\n",
       "      <th>5476248</th>\n",
       "      <td>697262</td>\n",
       "      <td>18307</td>\n",
       "      <td>A</td>\n",
       "    </tr>\n",
       "    <tr>\n",
       "      <th>5476250</th>\n",
       "      <td>319709</td>\n",
       "      <td>3921</td>\n",
       "      <td>A</td>\n",
       "    </tr>\n",
       "  </tbody>\n",
       "</table>\n",
       "</div>"
      ],
      "text/plain": [
       "         user_id  total_dur group\n",
       "6        1016458       1672     A\n",
       "9         203219       6975     B\n",
       "22        505244      15991     A\n",
       "24        916352       1812     A\n",
       "30       1057871       5033     A\n",
       "5476215   204332        822     B\n",
       "5476222  1007900          0     A\n",
       "5476246   648596          0     B\n",
       "5476248   697262      18307     A\n",
       "5476250   319709       3921     A"
      ]
     },
     "execution_count": 73,
     "metadata": {},
     "output_type": "execute_result"
    }
   ],
   "source": [
    "salt = \"kiontestmodel20210805\"\n",
    "ab_df = groups_splitter(df=week2_ab, columns=[\"user_id\", \"total_dur\", \"group\"], user_salt=\"kiontestmodel20210805\")\n",
    "pd.concat([ab_df.head(), ab_df.tail()])"
   ]
  },
  {
   "cell_type": "code",
   "execution_count": 74,
   "metadata": {},
   "outputs": [
    {
     "data": {
      "image/png": "[encoded data removed]",
      "text/plain": [
       "<Figure size 640x480 with 1 Axes>"
      ]
     },
     "metadata": {},
     "output_type": "display_data"
    }
   ],
   "source": [
    "ab_df[\"group\"].value_counts().plot.barh()\n",
    "plt.title(\"Распределение по группам\");"
   ]
  },
  {
   "cell_type": "code",
   "execution_count": 79,
   "metadata": {},
   "outputs": [],
   "source": [
    "vec_a = week2_ab[(week2_ab['group'] == 'A')]['total_dur']\n",
    "vec_b = week2_ab[(week2_ab['group'] == 'B')]['total_dur']"
   ]
  },
  {
   "cell_type": "markdown",
   "metadata": {},
   "source": [
    "### Оказалось, что модель в группе В показала себя лучше, чем в группе А на 2.5%, причем эффект распространился неравномерно и преимущественно на 10% самых смотрящих пользователей, докиньте такой эффект самостоятельно. Нужно метрику total_dur увеличить на 2.5% для 10% пользователей с самым продолжительным смотрением."
   ]
  },
  {
   "cell_type": "code",
   "execution_count": 81,
   "metadata": {},
   "outputs": [],
   "source": [
    "top_10_users_idx = vec_b.sort_values(ascending=False).index[:int(vec_b.shape[0] * 0.1)]\n",
    "vec_b = vec_b.copy()  # Создаем явную копию DataFrame\n",
    "vec_b.loc[top_10_users_idx] *= 1.025\n"
   ]
  },
  {
   "cell_type": "code",
   "execution_count": 87,
   "metadata": {},
   "outputs": [],
   "source": [
    "def calculate_confidence_interval(distribution, alpha=0.05):\n",
    "    \"\"\"Вычисляет доверительный интервал для заданного уровня значимости.\"\"\"\n",
    "    lower_bound, upper_bound = np.percentile(distribution, [100 * alpha / 2., 100 * (1 - alpha / 2.)])\n",
    "    return lower_bound, upper_bound"
   ]
  },
  {
   "cell_type": "code",
   "execution_count": 88,
   "metadata": {},
   "outputs": [
    {
     "name": "stdout",
     "output_type": "stream",
     "text": [
      "95% Доверительный интервал для разницы средних: (-361.3699729553779, -33.83579571457577)\n",
      "p-value: 0.018\n",
      "Нулевая гипотеза (разница равна 0) отвергается: True\n"
     ]
    }
   ],
   "source": [
    "# Рассчитываем средние для векторов с использованием бутстрэпа\n",
    "sample_a_mean = calc_bootstrap_mean(vec_a, size=1000)\n",
    "sample_b_mean = calc_bootstrap_mean(vec_b, size=1000)\n",
    "\n",
    "# Вычисляем разности между средними значениями\n",
    "difference_distribution = sample_a_mean - sample_b_mean\n",
    "\n",
    "# Вычисляем доверительный интервал для разницы средних\n",
    "lower_bound, upper_bound = calculate_confidence_interval(difference_distribution, alpha=0.05)\n",
    "\n",
    "# Вычисляем p-value\n",
    "p_value = get_p_value(difference_distribution)\n",
    "\n",
    "# Печатаем результаты\n",
    "print(\"95% Доверительный интервал для разницы средних:\", (lower_bound, upper_bound))\n",
    "print(\"p-value:\", p_value)\n",
    "print(\"Нулевая гипотеза (разница равна 0) отвергается:\", not (lower_bound <= 0 <= upper_bound))"
   ]
  },
  {
   "cell_type": "markdown",
   "metadata": {},
   "source": [
    "Значение True указывает, что ноль находится внутри 95% доверительного интервала. В данном контексте это означает, что разница средних значений не является статистически значимой (по уровню значимости 0.05), так как 0 не входит в интервал.\n",
    "Можно сделать следующий вывод: \n",
    "### **на основе проведенного бутстрэп-анализа с уровнем доверия 95%, разница средних значений между двумя выборками не является статистически значимой.**"
   ]
  },
  {
   "cell_type": "code",
   "execution_count": 89,
   "metadata": {},
   "outputs": [
    {
     "name": "stdout",
     "output_type": "stream",
     "text": [
      "p_value = 0.018 - Есть статистически значимые изменения\n"
     ]
    }
   ],
   "source": [
    "if p_value < 0.05:\n",
    "    print(f'p_value = {p_value} - Есть статистически значимые изменения')\n",
    "else:\n",
    "    print(f'p_value = {p_value} - Нет статистически значимых изменений')"
   ]
  },
  {
   "cell_type": "markdown",
   "metadata": {},
   "source": [
    "Это означает, что на уровне значимости 0.05 у нас есть статистически значимые доказательства того, что разница между средними значениями в выборках не случайна, и мы можем отвергнуть нулевую гипотезу в пользу альтернативной"
   ]
  },
  {
   "cell_type": "markdown",
   "metadata": {},
   "source": [
    "### Посмотрим на распределение средних двух выборок"
   ]
  },
  {
   "cell_type": "code",
   "execution_count": 86,
   "metadata": {},
   "outputs": [
    {
     "data": {
      "image/png": "[encoded data removed]",
      "text/plain": [
       "<Figure size 640x480 with 1 Axes>"
      ]
     },
     "metadata": {},
     "output_type": "display_data"
    }
   ],
   "source": [
    "\n",
    "plt.hist(sample_a_mean, bins=30, color='purple', alpha=0.75, label='Group A')\n",
    "plt.hist(sample_b_mean, bins=30, color='orange', alpha=0.75, label='Group B')\n",
    "plt.title('Histogram of Group A and Group B')\n",
    "plt.legend()\n",
    "plt.tight_layout()\n",
    "plt.show()"
   ]
  }
 ],
 "metadata": {
  "kernelspec": {
   "display_name": "ab-test",
   "language": "python",
   "name": "python3"
  },
  "language_info": {
   "codemirror_mode": {
    "name": "ipython",
    "version": 3
   },
   "file_extension": ".py",
   "mimetype": "text/x-python",
   "name": "python",
   "nbconvert_exporter": "python",
   "pygments_lexer": "ipython3",
   "version": "3.12.2"
  }
 },
 "nbformat": 4,
 "nbformat_minor": 2
}
